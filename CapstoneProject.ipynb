{
  "cells": [
    {
      "cell_type": "markdown",
      "metadata": {
        "id": "PEF-UOYKb2kC"
      },
      "source": [
        "The data comes from https://firstratedata.com/, but their free samples seem to be tied to the day you request to have them.\n",
        "\n",
        "I tried to find stocks in different fields.\n",
        "\n",
        "I didn't feel the need to test for trends because my window is so short (just a couple of weeks)\n",
        "\n",
        "I chose to use GRU based on this paper: https://www.ncbi.nlm.nih.gov/pmc/articles/PMC9141105/#:~:text=2.4.-,Recurrent%20Neural%20Networks%20(RNNs),time%20intervals%20or%20time%20steps. Long Term Short Term networks may also work but they may be time intensive. \"GRUs are simplified version of LSTMs that use single “update gate” to control the flow of information into the memory cell. GRUs are easier to train and faster to run than LSTMs, but they may not be as effective at storing and accessing long-term dependencies.\""
      ]
    },
    {
      "cell_type": "markdown",
      "source": [
        "I have access to 10 days worth of minute-to-minute data, for 7 stocks in different fields. I used a \"walk forward\" stratedy to train my models: giving it two and a half days worth of data (from 8am day 1 to 11:59am on day 3) and then asked it to predict the price at noon, 2pm, and the closing price at 4pm on day 3. Once the model was tuned, I had it work from day 1 into the middle of day 4, and so on until the final day's worth of data was reached (the test set)."
      ],
      "metadata": {
        "id": "Z1U5IiT87zHn"
      }
    },
    {
      "cell_type": "markdown",
      "source": [
        "Remember: Convert change in price to percentage"
      ],
      "metadata": {
        "id": "MCmJ7eWxcfdo"
      }
    },
    {
      "cell_type": "code",
      "execution_count": 1,
      "metadata": {
        "ExecuteTime": {
          "end_time": "2024-03-19T15:50:31.491734Z",
          "start_time": "2024-03-19T15:50:29.733677Z"
        },
        "id": "IJtS7xfYb2kD"
      },
      "outputs": [],
      "source": [
        "import pandas as pd\n",
        "import matplotlib.pyplot as plt\n",
        "#!pip install numpy==1.23.0\n",
        "import numpy as np\n",
        "\n",
        "from sklearn.metrics import mean_squared_error as mse\n",
        "from sklearn.preprocessing import StandardScaler\n",
        "\n",
        "from datetime import datetime as dt\n",
        "\n",
        "from keras.models import Sequential\n",
        "from keras.layers import *\n",
        "from keras.losses import MeanSquaredError\n",
        "from keras.metrics import RootMeanSquaredError\n",
        "from keras.optimizers import Adam\n",
        "from keras.callbacks import EarlyStopping\n",
        "from keras.layers import GRU\n",
        "from keras.callbacks import ModelCheckpoint\n",
        "\n",
        "import tensorflow as tf"
      ]
    },
    {
      "cell_type": "code",
      "source": [
        "print(np.__version__)"
      ],
      "metadata": {
        "id": "DZ6qlmVnF0Hn",
        "outputId": "6c04e861-80f7-4037-b1e8-f79d7526ef61",
        "colab": {
          "base_uri": "https://localhost:8080/"
        }
      },
      "execution_count": 2,
      "outputs": [
        {
          "output_type": "stream",
          "name": "stdout",
          "text": [
            "1.25.2\n"
          ]
        }
      ]
    },
    {
      "cell_type": "code",
      "execution_count": 3,
      "metadata": {
        "ExecuteTime": {
          "start_time": "2024-03-17T07:11:25.500Z"
        },
        "id": "QpCWdvKkb2kE"
      },
      "outputs": [],
      "source": [
        "df_aal = pd.read_csv(\"https://raw.githubusercontent.com/FerdinandBeaman/Capstone/main/1MinSamples/AAL_1min_sample.csv\")\n",
        "df_fdx = pd.read_csv(\"https://raw.githubusercontent.com/FerdinandBeaman/Capstone/main/1MinSamples/FDX_1min_sample.csv\")\n",
        "df_fis = pd.read_csv(\"https://raw.githubusercontent.com/FerdinandBeaman/Capstone/main/1MinSamples/FIS_1min_sample.csv\")\n",
        "df_mcy = pd.read_csv(\"https://raw.githubusercontent.com/FerdinandBeaman/Capstone/main/1MinSamples/M_1min_sample.csv\")\n",
        "df_spr = pd.read_csv(\"https://raw.githubusercontent.com/FerdinandBeaman/Capstone/main/1MinSamples/S_1min_sample.csv\")\n",
        "df_sbx = pd.read_csv(\"https://raw.githubusercontent.com/FerdinandBeaman/Capstone/main/1MinSamples/SBUX_1min_sample.csv\")\n",
        "df_tsl = pd.read_csv(\"https://raw.githubusercontent.com/FerdinandBeaman/Capstone/main/1MinSamples/TSLA_1min_sample.csv\")\n",
        "\n",
        "all_dfs = [df_aal, df_fdx, df_fis, df_mcy, df_sbx, df_spr, df_tsl]"
      ]
    },
    {
      "cell_type": "code",
      "execution_count": 4,
      "metadata": {
        "ExecuteTime": {
          "start_time": "2024-03-17T07:11:25.502Z"
        },
        "colab": {
          "base_uri": "https://localhost:8080/"
        },
        "id": "7Hcc13wrb2kE",
        "outputId": "af36a2f7-f813-4b47-9247-c567eb3b1162"
      },
      "outputs": [
        {
          "output_type": "stream",
          "name": "stdout",
          "text": [
            "5700\n",
            "4231\n",
            "4396\n",
            "5595\n",
            "4776\n",
            "5050\n",
            "10005\n"
          ]
        }
      ],
      "source": [
        "for df in all_dfs:\n",
        "    print(len(df))"
      ]
    },
    {
      "cell_type": "code",
      "execution_count": 5,
      "metadata": {
        "ExecuteTime": {
          "start_time": "2024-03-17T07:11:25.504Z"
        },
        "id": "nZpLusVCb2kE"
      },
      "outputs": [],
      "source": [
        "for df in all_dfs:\n",
        "    df['timestamp'] = pd.to_datetime(df['timestamp'])"
      ]
    },
    {
      "cell_type": "code",
      "execution_count": 6,
      "metadata": {
        "ExecuteTime": {
          "start_time": "2024-03-17T07:11:25.508Z"
        },
        "scrolled": true,
        "id": "cd0bi-yub2kE"
      },
      "outputs": [],
      "source": [
        "# for df in all_dfs:\n",
        "#     print(df.isnull().sum())\n",
        "#     print(\"\\n\")"
      ]
    },
    {
      "cell_type": "markdown",
      "source": [
        "Next, I am just looking for the latest time that any of my stocks began to track their prices and the earliest time that any of them stopped tracking their prices. This way, I can make all of my data uniform in length."
      ],
      "metadata": {
        "id": "UUyyD1QT9zYt"
      }
    },
    {
      "cell_type": "code",
      "execution_count": 7,
      "metadata": {
        "ExecuteTime": {
          "start_time": "2024-03-17T07:11:25.510Z"
        },
        "colab": {
          "base_uri": "https://localhost:8080/"
        },
        "id": "IelBpI09b2kE",
        "outputId": "6c36adfd-7da0-4351-f74d-11e847fec1cc"
      },
      "outputs": [
        {
          "output_type": "stream",
          "name": "stdout",
          "text": [
            "2024-02-26 04:03:00\n",
            "2024-02-26 06:09:00\n",
            "2024-02-26 06:06:00\n",
            "2024-02-26 04:41:00\n",
            "2024-02-26 08:00:00\n",
            "2024-02-26 04:00:00\n",
            "2024-02-26 04:00:00\n"
          ]
        }
      ],
      "source": [
        "for df in all_dfs:\n",
        "    print(df[\"timestamp\"][0])"
      ]
    },
    {
      "cell_type": "code",
      "execution_count": 8,
      "metadata": {
        "ExecuteTime": {
          "start_time": "2024-03-17T07:11:25.512Z"
        },
        "scrolled": false,
        "colab": {
          "base_uri": "https://localhost:8080/"
        },
        "id": "aTt_AeuAb2kE",
        "outputId": "feb80c66-e817-46b0-d2b6-7ad955904315"
      },
      "outputs": [
        {
          "output_type": "stream",
          "name": "stdout",
          "text": [
            "2024-03-11 19:44:00\n",
            "2024-03-11 18:11:00\n",
            "2024-03-11 16:00:00\n",
            "2024-03-11 19:39:00\n",
            "2024-03-11 19:04:00\n",
            "2024-03-11 19:38:00\n",
            "2024-03-11 19:54:00\n"
          ]
        }
      ],
      "source": [
        "for df in all_dfs:\n",
        "    print(df[\"timestamp\"].iloc[-1])"
      ]
    },
    {
      "cell_type": "markdown",
      "source": [
        "So 8am on the 26th and 4pm on the 11th."
      ],
      "metadata": {
        "id": "fRhaeUn_-V0-"
      }
    },
    {
      "cell_type": "code",
      "execution_count": 9,
      "metadata": {
        "ExecuteTime": {
          "start_time": "2024-03-17T07:11:25.514Z"
        },
        "scrolled": true,
        "id": "GGvgdLY3b2kE"
      },
      "outputs": [],
      "source": [
        "for df in all_dfs:\n",
        "    df.set_index('timestamp', inplace=True)"
      ]
    },
    {
      "cell_type": "code",
      "execution_count": 10,
      "metadata": {
        "ExecuteTime": {
          "start_time": "2024-03-17T07:11:25.517Z"
        },
        "id": "NANS8yaeb2kE"
      },
      "outputs": [],
      "source": [
        "for i, df in enumerate(all_dfs):\n",
        "    all_dfs[i] = df.resample(\"1min\").asfreq().ffill()"
      ]
    },
    {
      "cell_type": "code",
      "execution_count": 11,
      "metadata": {
        "ExecuteTime": {
          "start_time": "2024-03-17T07:11:25.521Z"
        },
        "id": "hhlffGNfb2kE"
      },
      "outputs": [],
      "source": [
        "for i, df in enumerate(all_dfs):\n",
        "    all_dfs[i] = df['2024-02-26 08:00' : \"2024-03-11 16:00\" ]"
      ]
    },
    {
      "cell_type": "code",
      "execution_count": 12,
      "metadata": {
        "ExecuteTime": {
          "start_time": "2024-03-17T07:11:25.516Z"
        },
        "colab": {
          "base_uri": "https://localhost:8080/"
        },
        "id": "Hs5SRjSJb2kE",
        "outputId": "1787b00a-febd-42ae-de34-34402efe45c5"
      },
      "outputs": [
        {
          "output_type": "stream",
          "name": "stderr",
          "text": [
            "<ipython-input-12-06eb2f43abe5>:2: SettingWithCopyWarning: \n",
            "A value is trying to be set on a copy of a slice from a DataFrame\n",
            "\n",
            "See the caveats in the documentation: https://pandas.pydata.org/pandas-docs/stable/user_guide/indexing.html#returning-a-view-versus-a-copy\n",
            "  all_dfs[i].drop([\"high\", \"low\", \"close\"], axis = 1, inplace = True)\n"
          ]
        }
      ],
      "source": [
        "for i, df in enumerate(all_dfs):\n",
        "    all_dfs[i].drop([\"high\", \"low\", \"close\"], axis = 1, inplace = True)"
      ]
    },
    {
      "cell_type": "code",
      "source": [
        "seven_dfs = pd.concat(all_dfs, axis=1)"
      ],
      "metadata": {
        "id": "zGCVw_bREHRU"
      },
      "execution_count": 13,
      "outputs": []
    },
    {
      "cell_type": "code",
      "source": [
        "cols = [\"open_1\", \"volume_1\", \"open_2\", \"volume_2\", \"open_3\",\n",
        "                   \"volume_3\", \"open_4\", \"volume_4\", \"open_5\", \"volume_5\",\n",
        "                   \"open_6\", \"volume_6\", \"open_7\", \"volume_7\"]\n",
        "\n",
        "seven_dfs.set_axis(cols, axis = 1, inplace = True)"
      ],
      "metadata": {
        "colab": {
          "base_uri": "https://localhost:8080/"
        },
        "id": "grdFOm8zG6Pd",
        "outputId": "0195820d-20d3-4e3d-9b90-e0a607715c46"
      },
      "execution_count": 14,
      "outputs": [
        {
          "output_type": "stream",
          "name": "stderr",
          "text": [
            "<ipython-input-14-af5447aa6638>:5: FutureWarning: DataFrame.set_axis 'inplace' keyword is deprecated and will be removed in a future version. Use `obj = obj.set_axis(..., copy=False)` instead\n",
            "  seven_dfs.set_axis(cols, axis = 1, inplace = True)\n"
          ]
        }
      ]
    },
    {
      "cell_type": "code",
      "source": [
        "# Getting the first one and a half days of data for the initial training set,\n",
        "# Then using that to scale all of my data.\n",
        "\n",
        "\n",
        "train_36_hrs = seven_dfs['2024-02-26 08:00' : \"2024-02-28 12:00\" ]\n",
        "\n",
        "scaler = StandardScaler()\n",
        "\n",
        "train_36_hrs[cols] = scaler.fit(train_36_hrs[cols])\n",
        "seven_dfs[cols] = scaler.transform(seven_dfs[cols])"
      ],
      "metadata": {
        "colab": {
          "base_uri": "https://localhost:8080/"
        },
        "id": "HEUnOD_D9DpY",
        "outputId": "2fd01e36-47ec-4b08-d054-be931733e70a"
      },
      "execution_count": 15,
      "outputs": [
        {
          "output_type": "stream",
          "name": "stderr",
          "text": [
            "<ipython-input-15-5950431c8b46>:9: SettingWithCopyWarning: \n",
            "A value is trying to be set on a copy of a slice from a DataFrame.\n",
            "Try using .loc[row_indexer,col_indexer] = value instead\n",
            "\n",
            "See the caveats in the documentation: https://pandas.pydata.org/pandas-docs/stable/user_guide/indexing.html#returning-a-view-versus-a-copy\n",
            "  train_36_hrs[cols] = scaler.fit(train_36_hrs[cols])\n"
          ]
        }
      ]
    },
    {
      "cell_type": "code",
      "source": [
        "seven_dfs[\"hour\"] = np.nan\n",
        "for i in range(len(seven_dfs)):\n",
        "  seven_dfs[\"hour\"][i] = seven_dfs.index[i].hour\n",
        "\n",
        "seven_dfs[\"day\"] = np.nan\n",
        "for i in range(len(seven_dfs)):\n",
        "  seven_dfs[\"day\"][i] = seven_dfs.index[i].dayofweek"
      ],
      "metadata": {
        "colab": {
          "base_uri": "https://localhost:8080/",
          "height": 418
        },
        "id": "_yFKaVWeGRmS",
        "outputId": "72c857d4-4bee-4b53-d70f-dbe8f309fb89"
      },
      "execution_count": 16,
      "outputs": [
        {
          "output_type": "error",
          "ename": "KeyboardInterrupt",
          "evalue": "",
          "traceback": [
            "\u001b[0;31m---------------------------------------------------------------------------\u001b[0m",
            "\u001b[0;31mKeyError\u001b[0m                                  Traceback (most recent call last)",
            "\u001b[0;32m/usr/local/lib/python3.10/dist-packages/pandas/core/series.py\u001b[0m in \u001b[0;36m__setitem__\u001b[0;34m(self, key, value)\u001b[0m\n\u001b[1;32m   1104\u001b[0m         \u001b[0;32mtry\u001b[0m\u001b[0;34m:\u001b[0m\u001b[0;34m\u001b[0m\u001b[0;34m\u001b[0m\u001b[0m\n\u001b[0;32m-> 1105\u001b[0;31m             \u001b[0mself\u001b[0m\u001b[0;34m.\u001b[0m\u001b[0m_set_with_engine\u001b[0m\u001b[0;34m(\u001b[0m\u001b[0mkey\u001b[0m\u001b[0;34m,\u001b[0m \u001b[0mvalue\u001b[0m\u001b[0;34m)\u001b[0m\u001b[0;34m\u001b[0m\u001b[0;34m\u001b[0m\u001b[0m\n\u001b[0m\u001b[1;32m   1106\u001b[0m         \u001b[0;32mexcept\u001b[0m \u001b[0mKeyError\u001b[0m\u001b[0;34m:\u001b[0m\u001b[0;34m\u001b[0m\u001b[0;34m\u001b[0m\u001b[0m\n",
            "\u001b[0;32m/usr/local/lib/python3.10/dist-packages/pandas/core/series.py\u001b[0m in \u001b[0;36m_set_with_engine\u001b[0;34m(self, key, value)\u001b[0m\n\u001b[1;32m   1174\u001b[0m     \u001b[0;32mdef\u001b[0m \u001b[0m_set_with_engine\u001b[0m\u001b[0;34m(\u001b[0m\u001b[0mself\u001b[0m\u001b[0;34m,\u001b[0m \u001b[0mkey\u001b[0m\u001b[0;34m,\u001b[0m \u001b[0mvalue\u001b[0m\u001b[0;34m)\u001b[0m \u001b[0;34m->\u001b[0m \u001b[0;32mNone\u001b[0m\u001b[0;34m:\u001b[0m\u001b[0;34m\u001b[0m\u001b[0;34m\u001b[0m\u001b[0m\n\u001b[0;32m-> 1175\u001b[0;31m         \u001b[0mloc\u001b[0m \u001b[0;34m=\u001b[0m \u001b[0mself\u001b[0m\u001b[0;34m.\u001b[0m\u001b[0mindex\u001b[0m\u001b[0;34m.\u001b[0m\u001b[0mget_loc\u001b[0m\u001b[0;34m(\u001b[0m\u001b[0mkey\u001b[0m\u001b[0;34m)\u001b[0m\u001b[0;34m\u001b[0m\u001b[0;34m\u001b[0m\u001b[0m\n\u001b[0m\u001b[1;32m   1176\u001b[0m \u001b[0;34m\u001b[0m\u001b[0m\n",
            "\u001b[0;32m/usr/local/lib/python3.10/dist-packages/pandas/core/indexes/datetimes.py\u001b[0m in \u001b[0;36mget_loc\u001b[0;34m(self, key, method, tolerance)\u001b[0m\n\u001b[1;32m    732\u001b[0m             \u001b[0;31m# unrecognized type\u001b[0m\u001b[0;34m\u001b[0m\u001b[0;34m\u001b[0m\u001b[0m\n\u001b[0;32m--> 733\u001b[0;31m             \u001b[0;32mraise\u001b[0m \u001b[0mKeyError\u001b[0m\u001b[0;34m(\u001b[0m\u001b[0mkey\u001b[0m\u001b[0;34m)\u001b[0m\u001b[0;34m\u001b[0m\u001b[0;34m\u001b[0m\u001b[0m\n\u001b[0m\u001b[1;32m    734\u001b[0m \u001b[0;34m\u001b[0m\u001b[0m\n",
            "\u001b[0;31mKeyError\u001b[0m: 11709",
            "\nDuring handling of the above exception, another exception occurred:\n",
            "\u001b[0;31mKeyboardInterrupt\u001b[0m                         Traceback (most recent call last)",
            "\u001b[0;32m<ipython-input-16-484a89a1250b>\u001b[0m in \u001b[0;36m<cell line: 6>\u001b[0;34m()\u001b[0m\n\u001b[1;32m      5\u001b[0m \u001b[0mseven_dfs\u001b[0m\u001b[0;34m[\u001b[0m\u001b[0;34m\"day\"\u001b[0m\u001b[0;34m]\u001b[0m \u001b[0;34m=\u001b[0m \u001b[0mnp\u001b[0m\u001b[0;34m.\u001b[0m\u001b[0mnan\u001b[0m\u001b[0;34m\u001b[0m\u001b[0;34m\u001b[0m\u001b[0m\n\u001b[1;32m      6\u001b[0m \u001b[0;32mfor\u001b[0m \u001b[0mi\u001b[0m \u001b[0;32min\u001b[0m \u001b[0mrange\u001b[0m\u001b[0;34m(\u001b[0m\u001b[0mlen\u001b[0m\u001b[0;34m(\u001b[0m\u001b[0mseven_dfs\u001b[0m\u001b[0;34m)\u001b[0m\u001b[0;34m)\u001b[0m\u001b[0;34m:\u001b[0m\u001b[0;34m\u001b[0m\u001b[0;34m\u001b[0m\u001b[0m\n\u001b[0;32m----> 7\u001b[0;31m   \u001b[0mseven_dfs\u001b[0m\u001b[0;34m[\u001b[0m\u001b[0;34m\"day\"\u001b[0m\u001b[0;34m]\u001b[0m\u001b[0;34m[\u001b[0m\u001b[0mi\u001b[0m\u001b[0;34m]\u001b[0m \u001b[0;34m=\u001b[0m \u001b[0mseven_dfs\u001b[0m\u001b[0;34m.\u001b[0m\u001b[0mindex\u001b[0m\u001b[0;34m[\u001b[0m\u001b[0mi\u001b[0m\u001b[0;34m]\u001b[0m\u001b[0;34m.\u001b[0m\u001b[0mdayofweek\u001b[0m\u001b[0;34m\u001b[0m\u001b[0;34m\u001b[0m\u001b[0m\n\u001b[0m",
            "\u001b[0;32m/usr/local/lib/python3.10/dist-packages/pandas/core/series.py\u001b[0m in \u001b[0;36m__setitem__\u001b[0;34m(self, key, value)\u001b[0m\n\u001b[1;32m   1122\u001b[0m                 \u001b[0;31m# can't use _mgr.setitem_inplace yet bc could have *both*\u001b[0m\u001b[0;34m\u001b[0m\u001b[0;34m\u001b[0m\u001b[0m\n\u001b[1;32m   1123\u001b[0m                 \u001b[0;31m#  KeyError and then ValueError, xref GH#45070\u001b[0m\u001b[0;34m\u001b[0m\u001b[0;34m\u001b[0m\u001b[0m\n\u001b[0;32m-> 1124\u001b[0;31m                 \u001b[0mself\u001b[0m\u001b[0;34m.\u001b[0m\u001b[0m_set_values\u001b[0m\u001b[0;34m(\u001b[0m\u001b[0mkey\u001b[0m\u001b[0;34m,\u001b[0m \u001b[0mvalue\u001b[0m\u001b[0;34m)\u001b[0m\u001b[0;34m\u001b[0m\u001b[0;34m\u001b[0m\u001b[0m\n\u001b[0m\u001b[1;32m   1125\u001b[0m             \u001b[0;32melse\u001b[0m\u001b[0;34m:\u001b[0m\u001b[0;34m\u001b[0m\u001b[0;34m\u001b[0m\u001b[0m\n\u001b[1;32m   1126\u001b[0m                 \u001b[0;31m# GH#12862 adding a new key to the Series\u001b[0m\u001b[0;34m\u001b[0m\u001b[0;34m\u001b[0m\u001b[0m\n",
            "\u001b[0;32m/usr/local/lib/python3.10/dist-packages/pandas/core/series.py\u001b[0m in \u001b[0;36m_set_values\u001b[0;34m(self, key, value)\u001b[0m\n\u001b[1;32m   1214\u001b[0m \u001b[0;34m\u001b[0m\u001b[0m\n\u001b[1;32m   1215\u001b[0m         \u001b[0mself\u001b[0m\u001b[0;34m.\u001b[0m\u001b[0m_mgr\u001b[0m \u001b[0;34m=\u001b[0m \u001b[0mself\u001b[0m\u001b[0;34m.\u001b[0m\u001b[0m_mgr\u001b[0m\u001b[0;34m.\u001b[0m\u001b[0msetitem\u001b[0m\u001b[0;34m(\u001b[0m\u001b[0mindexer\u001b[0m\u001b[0;34m=\u001b[0m\u001b[0mkey\u001b[0m\u001b[0;34m,\u001b[0m \u001b[0mvalue\u001b[0m\u001b[0;34m=\u001b[0m\u001b[0mvalue\u001b[0m\u001b[0;34m)\u001b[0m\u001b[0;34m\u001b[0m\u001b[0;34m\u001b[0m\u001b[0m\n\u001b[0;32m-> 1216\u001b[0;31m         \u001b[0mself\u001b[0m\u001b[0;34m.\u001b[0m\u001b[0m_maybe_update_cacher\u001b[0m\u001b[0;34m(\u001b[0m\u001b[0;34m)\u001b[0m\u001b[0;34m\u001b[0m\u001b[0;34m\u001b[0m\u001b[0m\n\u001b[0m\u001b[1;32m   1217\u001b[0m \u001b[0;34m\u001b[0m\u001b[0m\n\u001b[1;32m   1218\u001b[0m     \u001b[0;32mdef\u001b[0m \u001b[0m_set_value\u001b[0m\u001b[0;34m(\u001b[0m\u001b[0mself\u001b[0m\u001b[0;34m,\u001b[0m \u001b[0mlabel\u001b[0m\u001b[0;34m,\u001b[0m \u001b[0mvalue\u001b[0m\u001b[0;34m,\u001b[0m \u001b[0mtakeable\u001b[0m\u001b[0;34m:\u001b[0m \u001b[0mbool\u001b[0m \u001b[0;34m=\u001b[0m \u001b[0;32mFalse\u001b[0m\u001b[0;34m)\u001b[0m\u001b[0;34m:\u001b[0m\u001b[0;34m\u001b[0m\u001b[0;34m\u001b[0m\u001b[0m\n",
            "\u001b[0;32m/usr/local/lib/python3.10/dist-packages/pandas/core/series.py\u001b[0m in \u001b[0;36m_maybe_update_cacher\u001b[0;34m(self, clear, verify_is_copy, inplace)\u001b[0m\n\u001b[1;32m   1315\u001b[0m                 \u001b[0;31m# to ensure column still in dataframe\u001b[0m\u001b[0;34m\u001b[0m\u001b[0;34m\u001b[0m\u001b[0m\n\u001b[1;32m   1316\u001b[0m                 \u001b[0;31m# otherwise, either self or ref has swapped in new arrays\u001b[0m\u001b[0;34m\u001b[0m\u001b[0;34m\u001b[0m\u001b[0m\n\u001b[0;32m-> 1317\u001b[0;31m                 \u001b[0mref\u001b[0m\u001b[0;34m.\u001b[0m\u001b[0m_maybe_cache_changed\u001b[0m\u001b[0;34m(\u001b[0m\u001b[0mcacher\u001b[0m\u001b[0;34m[\u001b[0m\u001b[0;36m0\u001b[0m\u001b[0;34m]\u001b[0m\u001b[0;34m,\u001b[0m \u001b[0mself\u001b[0m\u001b[0;34m,\u001b[0m \u001b[0minplace\u001b[0m\u001b[0;34m=\u001b[0m\u001b[0minplace\u001b[0m\u001b[0;34m)\u001b[0m\u001b[0;34m\u001b[0m\u001b[0;34m\u001b[0m\u001b[0m\n\u001b[0m\u001b[1;32m   1318\u001b[0m             \u001b[0;32melse\u001b[0m\u001b[0;34m:\u001b[0m\u001b[0;34m\u001b[0m\u001b[0;34m\u001b[0m\u001b[0m\n\u001b[1;32m   1319\u001b[0m                 \u001b[0;31m# GH#33675 we have swapped in a new array, so parent\u001b[0m\u001b[0;34m\u001b[0m\u001b[0;34m\u001b[0m\u001b[0m\n",
            "\u001b[0;32m/usr/local/lib/python3.10/dist-packages/pandas/core/frame.py\u001b[0m in \u001b[0;36m_maybe_cache_changed\u001b[0;34m(self, item, value, inplace)\u001b[0m\n\u001b[1;32m   4300\u001b[0m         \u001b[0marraylike\u001b[0m \u001b[0;34m=\u001b[0m \u001b[0mvalue\u001b[0m\u001b[0;34m.\u001b[0m\u001b[0m_values\u001b[0m\u001b[0;34m\u001b[0m\u001b[0;34m\u001b[0m\u001b[0m\n\u001b[1;32m   4301\u001b[0m \u001b[0;34m\u001b[0m\u001b[0m\n\u001b[0;32m-> 4302\u001b[0;31m         \u001b[0mold\u001b[0m \u001b[0;34m=\u001b[0m \u001b[0mself\u001b[0m\u001b[0;34m.\u001b[0m\u001b[0m_ixs\u001b[0m\u001b[0;34m(\u001b[0m\u001b[0mloc\u001b[0m\u001b[0;34m,\u001b[0m \u001b[0maxis\u001b[0m\u001b[0;34m=\u001b[0m\u001b[0;36m1\u001b[0m\u001b[0;34m)\u001b[0m\u001b[0;34m\u001b[0m\u001b[0;34m\u001b[0m\u001b[0m\n\u001b[0m\u001b[1;32m   4303\u001b[0m         \u001b[0;32mif\u001b[0m \u001b[0mold\u001b[0m\u001b[0;34m.\u001b[0m\u001b[0m_values\u001b[0m \u001b[0;32mis\u001b[0m \u001b[0mvalue\u001b[0m\u001b[0;34m.\u001b[0m\u001b[0m_values\u001b[0m \u001b[0;32mand\u001b[0m \u001b[0minplace\u001b[0m\u001b[0;34m:\u001b[0m\u001b[0;34m\u001b[0m\u001b[0;34m\u001b[0m\u001b[0m\n\u001b[1;32m   4304\u001b[0m             \u001b[0;31m# GH#46149 avoid making unnecessary copies/block-splitting\u001b[0m\u001b[0;34m\u001b[0m\u001b[0;34m\u001b[0m\u001b[0m\n",
            "\u001b[0;32m/usr/local/lib/python3.10/dist-packages/pandas/core/frame.py\u001b[0m in \u001b[0;36m_ixs\u001b[0;34m(self, i, axis)\u001b[0m\n\u001b[1;32m   3729\u001b[0m \u001b[0;34m\u001b[0m\u001b[0m\n\u001b[1;32m   3730\u001b[0m             \u001b[0mcol_mgr\u001b[0m \u001b[0;34m=\u001b[0m \u001b[0mself\u001b[0m\u001b[0;34m.\u001b[0m\u001b[0m_mgr\u001b[0m\u001b[0;34m.\u001b[0m\u001b[0miget\u001b[0m\u001b[0;34m(\u001b[0m\u001b[0mi\u001b[0m\u001b[0;34m)\u001b[0m\u001b[0;34m\u001b[0m\u001b[0;34m\u001b[0m\u001b[0m\n\u001b[0;32m-> 3731\u001b[0;31m             \u001b[0mresult\u001b[0m \u001b[0;34m=\u001b[0m \u001b[0mself\u001b[0m\u001b[0;34m.\u001b[0m\u001b[0m_box_col_values\u001b[0m\u001b[0;34m(\u001b[0m\u001b[0mcol_mgr\u001b[0m\u001b[0;34m,\u001b[0m \u001b[0mi\u001b[0m\u001b[0;34m)\u001b[0m\u001b[0;34m\u001b[0m\u001b[0;34m\u001b[0m\u001b[0m\n\u001b[0m\u001b[1;32m   3732\u001b[0m \u001b[0;34m\u001b[0m\u001b[0m\n\u001b[1;32m   3733\u001b[0m             \u001b[0;31m# this is a cached value, mark it so\u001b[0m\u001b[0;34m\u001b[0m\u001b[0;34m\u001b[0m\u001b[0m\n",
            "\u001b[0;32m/usr/local/lib/python3.10/dist-packages/pandas/core/frame.py\u001b[0m in \u001b[0;36m_box_col_values\u001b[0;34m(self, values, loc)\u001b[0m\n\u001b[1;32m   4264\u001b[0m         \u001b[0mklass\u001b[0m \u001b[0;34m=\u001b[0m \u001b[0mself\u001b[0m\u001b[0;34m.\u001b[0m\u001b[0m_constructor_sliced\u001b[0m\u001b[0;34m\u001b[0m\u001b[0;34m\u001b[0m\u001b[0m\n\u001b[1;32m   4265\u001b[0m         \u001b[0;31m# We get index=self.index bc values is a SingleDataManager\u001b[0m\u001b[0;34m\u001b[0m\u001b[0;34m\u001b[0m\u001b[0m\n\u001b[0;32m-> 4266\u001b[0;31m         \u001b[0;32mreturn\u001b[0m \u001b[0mklass\u001b[0m\u001b[0;34m(\u001b[0m\u001b[0mvalues\u001b[0m\u001b[0;34m,\u001b[0m \u001b[0mname\u001b[0m\u001b[0;34m=\u001b[0m\u001b[0mname\u001b[0m\u001b[0;34m,\u001b[0m \u001b[0mfastpath\u001b[0m\u001b[0;34m=\u001b[0m\u001b[0;32mTrue\u001b[0m\u001b[0;34m)\u001b[0m\u001b[0;34m.\u001b[0m\u001b[0m__finalize__\u001b[0m\u001b[0;34m(\u001b[0m\u001b[0mself\u001b[0m\u001b[0;34m)\u001b[0m\u001b[0;34m\u001b[0m\u001b[0;34m\u001b[0m\u001b[0m\n\u001b[0m\u001b[1;32m   4267\u001b[0m \u001b[0;34m\u001b[0m\u001b[0m\n\u001b[1;32m   4268\u001b[0m     \u001b[0;31m# ----------------------------------------------------------------------\u001b[0m\u001b[0;34m\u001b[0m\u001b[0;34m\u001b[0m\u001b[0m\n",
            "\u001b[0;32m/usr/local/lib/python3.10/dist-packages/pandas/core/series.py\u001b[0m in \u001b[0;36m__init__\u001b[0;34m(self, data, index, dtype, name, copy, fastpath)\u001b[0m\n\u001b[1;32m    357\u001b[0m         ):\n\u001b[1;32m    358\u001b[0m             \u001b[0;31m# GH#33357 called with just the SingleBlockManager\u001b[0m\u001b[0;34m\u001b[0m\u001b[0;34m\u001b[0m\u001b[0m\n\u001b[0;32m--> 359\u001b[0;31m             \u001b[0mNDFrame\u001b[0m\u001b[0;34m.\u001b[0m\u001b[0m__init__\u001b[0m\u001b[0;34m(\u001b[0m\u001b[0mself\u001b[0m\u001b[0;34m,\u001b[0m \u001b[0mdata\u001b[0m\u001b[0;34m)\u001b[0m\u001b[0;34m\u001b[0m\u001b[0;34m\u001b[0m\u001b[0m\n\u001b[0m\u001b[1;32m    360\u001b[0m             \u001b[0;32mif\u001b[0m \u001b[0mfastpath\u001b[0m\u001b[0;34m:\u001b[0m\u001b[0;34m\u001b[0m\u001b[0;34m\u001b[0m\u001b[0m\n\u001b[1;32m    361\u001b[0m                 \u001b[0;31m# e.g. from _box_col_values, skip validation of name\u001b[0m\u001b[0;34m\u001b[0m\u001b[0;34m\u001b[0m\u001b[0m\n",
            "\u001b[0;31mKeyboardInterrupt\u001b[0m: "
          ]
        }
      ]
    },
    {
      "cell_type": "code",
      "source": [
        "seven_dfs.drop(seven_dfs[(seven_dfs[\"hour\"] < 8) |\n",
        "                        (seven_dfs[\"hour\"] > 15)].index, inplace = True)\n",
        "seven_dfs.drop(seven_dfs[seven_dfs[\"day\"] > 4].index, inplace = True)"
      ],
      "metadata": {
        "id": "MJ1wyJl1E4L1"
      },
      "execution_count": null,
      "outputs": []
    },
    {
      "cell_type": "code",
      "source": [
        "len(seven_dfs)"
      ],
      "metadata": {
        "id": "IUrghRdQMAy7"
      },
      "execution_count": null,
      "outputs": []
    },
    {
      "cell_type": "code",
      "source": [
        "seven_dfs.open_1.plot()\n",
        "seven_dfs.open_2.plot()\n",
        "seven_dfs.open_3.plot()"
      ],
      "metadata": {
        "id": "dhHbSn7xWq_r"
      },
      "execution_count": null,
      "outputs": []
    },
    {
      "cell_type": "code",
      "source": [
        "prices = [\"open_1\", \"open_2\", \"open_3\", \"open_4\", \"open_5\", \"open_6\", \"open_7\"]\n",
        "for price in prices:\n",
        "  seven_dfs[price][400:460].plot()"
      ],
      "metadata": {
        "id": "yYS7NpI9PHHA"
      },
      "execution_count": null,
      "outputs": []
    },
    {
      "cell_type": "code",
      "source": [
        "for price in prices:\n",
        "  seven_dfs[price][1440:1920].plot()"
      ],
      "metadata": {
        "id": "jIqJuNKljXGL"
      },
      "execution_count": null,
      "outputs": []
    },
    {
      "cell_type": "code",
      "source": [
        "for price in prices:\n",
        "  seven_dfs[price][415:445].plot()"
      ],
      "metadata": {
        "id": "M1JStqPscDjH"
      },
      "execution_count": null,
      "outputs": []
    },
    {
      "cell_type": "code",
      "source": [
        "seven_dfs.drop(seven_dfs[seven_dfs[\"hour\"] < 9].index, inplace = True)"
      ],
      "metadata": {
        "id": "j2ZFLj0DmNYv"
      },
      "execution_count": null,
      "outputs": []
    },
    {
      "cell_type": "code",
      "source": [
        "len(seven_dfs)"
      ],
      "metadata": {
        "id": "RYoUGTxUmcGR"
      },
      "execution_count": null,
      "outputs": []
    },
    {
      "cell_type": "code",
      "source": [
        "seven_dfs.head()"
      ],
      "metadata": {
        "id": "4zGYBXJyv_CK"
      },
      "execution_count": null,
      "outputs": []
    },
    {
      "cell_type": "code",
      "source": [
        "# Code repurposed from Greg Hogg: https://www.youtube.com/watch?v=c0k-YLQGKjY\n",
        "def df_to_Xy(df, window):\n",
        "  df_np = df.to_numpy()\n",
        "  X = []\n",
        "  y = []\n",
        "  for i in range(0, len(df)-window, window):\n",
        "    row = [a for a in df_np[i:i+window]]\n",
        "    X.append(row)\n",
        "    y.append(df_np[i+window][[0,2,4,6,8,10,12]]) # y is just the 7 price cols\n",
        "  return np.array(X), np.array(y,dtype=np.float32)"
      ],
      "metadata": {
        "id": "WJ6V8lNl4eNO"
      },
      "execution_count": null,
      "outputs": []
    },
    {
      "cell_type": "code",
      "source": [
        "test = seven_dfs.to_numpy()\n",
        "test[0][[0,2]]"
      ],
      "metadata": {
        "id": "o45QAh2oYs_N"
      },
      "execution_count": null,
      "outputs": []
    },
    {
      "cell_type": "code",
      "source": [
        "X34, y34 = df_to_Xy(seven_dfs, 34)\n",
        "X45, y45 = df_to_Xy(seven_dfs, 45)\n",
        "X60, y60 = df_to_Xy(seven_dfs, 60)\n",
        "X80, y80 = df_to_Xy(seven_dfs, 80)"
      ],
      "metadata": {
        "id": "5ZsruE_OAsqC"
      },
      "execution_count": null,
      "outputs": []
    },
    {
      "cell_type": "code",
      "source": [
        "len(X34)"
      ],
      "metadata": {
        "id": "PkEMPPMSR69C"
      },
      "execution_count": null,
      "outputs": []
    },
    {
      "cell_type": "code",
      "source": [
        "X_train34, y_train34 = X34[:95], y34[:95] #Just over 70% of the data\n",
        "X_val34, y_val34 = X34[95:115], y34[95:115] # len(val) == len(test)\n",
        "X_test34, y_test34 = X34[115:], y34[115:]\n",
        "\n",
        "X_train45, y_train45 = X45[:72], y45[:72]\n",
        "X_val45, y_val45 = X45[72:87], y45[72:87]\n",
        "X_test45, y_test45 = X45[87:], y45[87:]\n",
        "\n",
        "X_train60, y_train60 = X60[:55], y60[:55]\n",
        "X_val60, y_val60 = X60[55:65], y60[55:65]\n",
        "X_test60, y_test60 = X60[65:75], y60[65:75]\n",
        "\n",
        "X_train80, y_train80 = X80[:40], y80[:40]\n",
        "X_val80, y_val80 = X80[40:49], y80[40:49]\n",
        "X_test80, y_test80 = X80[49:], y80[49:]"
      ],
      "metadata": {
        "id": "4-1PYT24i7c7"
      },
      "execution_count": null,
      "outputs": []
    },
    {
      "cell_type": "markdown",
      "source": [
        "First, I tried a model with a high learning rate (0.01), then default learning rate (0.0001) and a model with a small learning rate. (0.00001)"
      ],
      "metadata": {
        "id": "S__odsK2t7SP"
      }
    },
    {
      "cell_type": "code",
      "source": [
        "model_34 = Sequential()\n",
        "model_34.add(InputLayer((34,16)))\n",
        "model_34.add(GRU(64))\n",
        "model_34.add(Dense(16, \"relu\"))\n",
        "model_34.add(Dense(14, \"relu\"))\n",
        "model_34.add(Dense(7, \"linear\"))\n",
        "\n",
        "cp34 = ModelCheckpoint(\"model_34/\", save_best_only=True)\n",
        "\n",
        "model_34.compile(loss=MeanSquaredError(), optimizer=Adam(learning_rate=.01),\n",
        "                 metrics=[RootMeanSquaredError()])"
      ],
      "metadata": {
        "id": "261eRFPttvJg"
      },
      "execution_count": null,
      "outputs": []
    },
    {
      "cell_type": "code",
      "source": [
        "model_45 = Sequential()\n",
        "model_45.add(InputLayer((45,16)))\n",
        "model_45.add(GRU(64))\n",
        "model_45.add(Dense(16, \"relu\"))\n",
        "model_45.add(Dense(14, \"relu\"))\n",
        "model_45.add(Dense(7, \"linear\"))\n",
        "\n",
        "cp45 = ModelCheckpoint(\"model_45/\", save_best_only=True)\n",
        "\n",
        "model_45.compile(loss=MeanSquaredError(), optimizer=Adam(learning_rate=.01),\n",
        "                 metrics=[RootMeanSquaredError()])"
      ],
      "metadata": {
        "id": "0J-i6ST7trmN"
      },
      "execution_count": null,
      "outputs": []
    },
    {
      "cell_type": "code",
      "execution_count": null,
      "metadata": {
        "id": "4cgjYlAYb2kE"
      },
      "outputs": [],
      "source": [
        "model_60 = Sequential()\n",
        "model_60.add(InputLayer((60,16)))\n",
        "model_60.add(GRU(64))\n",
        "model_60.add(Dense(16, \"relu\"))\n",
        "model_60.add(Dense(14, \"relu\"))\n",
        "model_60.add(Dense(7, \"linear\"))\n",
        "\n",
        "cp60 = ModelCheckpoint(\"model_60/\", save_best_only=True)\n",
        "\n",
        "model_60.compile(loss=MeanSquaredError(), optimizer=Adam(learning_rate=.01),\n",
        "                 metrics=[RootMeanSquaredError()])"
      ]
    },
    {
      "cell_type": "code",
      "source": [
        "model_80 = Sequential()\n",
        "model_80.add(InputLayer((80,16)))\n",
        "model_80.add(GRU(64))\n",
        "model_80.add(Dense(16, \"relu\"))\n",
        "model_80.add(Dense(14, \"relu\"))\n",
        "model_80.add(Dense(7, \"linear\"))\n",
        "\n",
        "cp80 = ModelCheckpoint(\"model_80/\", save_best_only=True)\n",
        "\n",
        "model_80.compile(loss=MeanSquaredError(), optimizer=Adam(learning_rate=.01),\n",
        "                 metrics=[RootMeanSquaredError()])"
      ],
      "metadata": {
        "id": "wODTcQZUrX4c"
      },
      "execution_count": null,
      "outputs": []
    },
    {
      "cell_type": "code",
      "source": [
        "model_80.summary()"
      ],
      "metadata": {
        "id": "cHSKpifwpRT3"
      },
      "execution_count": null,
      "outputs": []
    },
    {
      "cell_type": "markdown",
      "source": [],
      "metadata": {
        "id": "dWunQ5wreyhZ"
      }
    },
    {
      "cell_type": "code",
      "source": [
        "# The preceding 4 cells were supposed to be automated by this for loop\n",
        "# but it was giving me trouble. Rather than let perfect get in the way\n",
        "# of great (or graduating), I left this here to debug later.\n",
        "\n",
        "# the_X_trains = [X_train32, X_train45, X_train60, X_train80]\n",
        "# the_y_trains = [y_train32, y_train45, y_train60, y_train80]\n",
        "\n",
        "# the_X_vals = [X_val32, X_val45, X_val60, X_val80]\n",
        "# the_y_vals = [y_val32, y_val45, y_val60, y_val80]\n",
        "\n",
        "# cp32 = ModelCheckpoint(\"model_32/\", save_best_only=True)\n",
        "# cp45 = ModelCheckpoint(\"model_45/\", save_best_only=True)\n",
        "# cp60 = ModelCheckpoint(\"model_60/\", save_best_only=True)\n",
        "# cp80 = ModelCheckpoint(\"model_80/\", save_best_only=True)\n",
        "\n",
        "# the_cps = [cp32, cp45, cp60, cp80]\n",
        "\n",
        "# model_32 = Sequential()\n",
        "# model_45 = Sequential()\n",
        "# model_60 = Sequential()\n",
        "# model_80 = Sequential()\n",
        "\n",
        "# the_models = [model_32, model_45, model_60, model_80]\n",
        "\n",
        "# for i, n in enumerate([32, 45, 60, 80]):\n",
        "#   the_models[i].add(InputLayer((n,16)))\n",
        "#   the_models[i].add(GRU(64))\n",
        "#   the_models[i].add(Dense(16, \"relu\"))\n",
        "#   the_models[i].add(Dense(14, \"relu\"))\n",
        "#   the_models[i].add(Dense(7, \"linear\"))\n",
        "\n",
        "#   the_models[i].compile(loss=MeanSquaredError(),\n",
        "#                         optimizer=Adam(learning_rate=.00325),\n",
        "#                         metrics=[RootMeanSquaredError()])\n",
        "\n",
        "#   the_models[i].fit(the_X_trains[i], the_y_trains[0], validation_data=(\n",
        "#       the_X_vals[i], the_y_vals[i]), epochs = 100,\n",
        "#       callbacks = [the_cps[i], EarlyStopping(patience=4)])"
      ],
      "metadata": {
        "id": "rpn3PBBcryys"
      },
      "execution_count": null,
      "outputs": []
    },
    {
      "cell_type": "code",
      "source": [
        "# Code repurposed from Greg Hogg: https://www.youtube.com/watch?v=kGdbPnMCdOg\n",
        "\n",
        "\n",
        "def plot_pred(model, X, y, col):\n",
        "  y = y[:,col]\n",
        "  preds = model.predict(X)[:,col].flatten()\n",
        "  df = pd.DataFrame(data={\"Predictions\":preds, \"Actuals\":y})\n",
        "  plt.plot(df[\"Predictions\"][:], label = \"Predictions\")\n",
        "  plt.plot(df[\"Actuals\"][:], label = \"Actuals\")\n",
        "  plt.legend()\n",
        "  return mse(y, preds)"
      ],
      "metadata": {
        "id": "QprBB7KCHT2c"
      },
      "execution_count": null,
      "outputs": []
    },
    {
      "cell_type": "code",
      "source": [
        "model_34.fit(X_train34, y_train34, validation_data=(X_val34, y_val34),\n",
        "            epochs = 25, callbacks = [cp34, EarlyStopping(patience=4)])"
      ],
      "metadata": {
        "id": "zhLvjQUxp_ph"
      },
      "execution_count": null,
      "outputs": []
    },
    {
      "cell_type": "code",
      "source": [
        "#An example of a promising result:\n",
        "plot_pred(model_34, X_val34, y_val34, 1)"
      ],
      "metadata": {
        "id": "DDhZm12PfDIW"
      },
      "execution_count": null,
      "outputs": []
    },
    {
      "cell_type": "code",
      "source": [
        "#...and a bad result:\n",
        "plot_pred(model_34, X_val34, y_val34, 2)"
      ],
      "metadata": {
        "id": "VeVPP1dv7P_d"
      },
      "execution_count": null,
      "outputs": []
    },
    {
      "cell_type": "code",
      "source": [
        "model_45.fit(X_train45, y_train45, validation_data=(X_val45, y_val45),\n",
        "            epochs = 25, callbacks = [cp45, EarlyStopping(patience=4)])"
      ],
      "metadata": {
        "id": "rmbuc55XpykJ"
      },
      "execution_count": null,
      "outputs": []
    },
    {
      "cell_type": "code",
      "source": [
        "#All of the models were pretty rough, here\n",
        "plot_pred(model_45, X_val45, y_val45, 2)"
      ],
      "metadata": {
        "id": "XXz-6O9X9izP"
      },
      "execution_count": null,
      "outputs": []
    },
    {
      "cell_type": "code",
      "source": [
        "model_60.fit(X_train60, y_train60, validation_data=(X_val60, y_val60),\n",
        "            epochs = 25, callbacks = [cp60, EarlyStopping(patience=4)])"
      ],
      "metadata": {
        "id": "QwpKJsFNpqbe"
      },
      "execution_count": null,
      "outputs": []
    },
    {
      "cell_type": "code",
      "source": [
        "# and it only gets bleaker with the larger timescales\n",
        "plot_pred(model_60, X_val60, y_val60, 3)"
      ],
      "metadata": {
        "id": "IDWOwP-P95Kz"
      },
      "execution_count": null,
      "outputs": []
    },
    {
      "cell_type": "code",
      "source": [
        "model_80.fit(X_train80, y_train80, validation_data=(X_val80, y_val80),\n",
        "            epochs = 25, callbacks = [cp80, EarlyStopping(patience=4)])"
      ],
      "metadata": {
        "id": "WIXfR3SuIyUm"
      },
      "execution_count": null,
      "outputs": []
    },
    {
      "cell_type": "code",
      "source": [
        "plot_pred(model_80, X_val80, y_val80, 2)"
      ],
      "metadata": {
        "id": "n8d75pq6-YTg"
      },
      "execution_count": null,
      "outputs": []
    },
    {
      "cell_type": "markdown",
      "source": [
        "Of course I expected the predictions to be more inaccurate with larger timescales, but I was surprised at the total lack of predictive power. But the 34 min model had promise. In fact it was here that I realized that a model which could make reasonably accurate predictions even just a few minutes in the future could work.\n",
        "\n",
        "But, before I move on, I should at least check to see if the poor performance of large time-delayed models could be alleviated with a low learning rate or with more layers."
      ],
      "metadata": {
        "id": "kK4ocCtmcnc5"
      }
    },
    {
      "cell_type": "code",
      "source": [
        "#First, lower learning rates\n",
        "model_34_2 = model_34.compile(loss=MeanSquaredError(), optimizer=Adam(learning_rate=.00001),\n",
        "                 metrics=[RootMeanSquaredError()])\n",
        "model_34_2.fit(X_train34, y_train34, validation_data=(X_val34, y_val34),\n",
        "            epochs = 25, callbacks = [cp34, EarlyStopping(patience=4)])"
      ],
      "metadata": {
        "id": "JYoIqkXkImzw"
      },
      "execution_count": null,
      "outputs": []
    },
    {
      "cell_type": "code",
      "source": [
        "plot_pred(model_34_2, X_val34, y_val34, 3)"
      ],
      "metadata": {
        "id": "EXGSC_VwQwZk"
      },
      "execution_count": null,
      "outputs": []
    },
    {
      "cell_type": "code",
      "source": [
        "model_45_2 model_45.compile(loss=MeanSquaredError(), optimizer=Adam(learning_rate=.00001),\n",
        "                 metrics=[RootMeanSquaredError()])\n",
        "model_45.fit(X_train45, y_train45, validation_data=(X_val45, y_val45),\n",
        "            epochs = 25, callbacks = [cp45, EarlyStopping(patience=4)])"
      ],
      "metadata": {
        "id": "J7AP4HaFIejp"
      },
      "execution_count": null,
      "outputs": []
    },
    {
      "cell_type": "code",
      "source": [
        "plot_pred(model_45_2, X_val45, y_val45, 3)"
      ],
      "metadata": {
        "id": "aEe2M8fSQs8R"
      },
      "execution_count": null,
      "outputs": []
    },
    {
      "cell_type": "code",
      "source": [
        "model_60_2 = model_60.compile(loss=MeanSquaredError(), optimizer=Adam(learning_rate=.00001),\n",
        "                 metrics=[RootMeanSquaredError()])\n",
        "model_60_2.fit(X_train60, y_train60, validation_data=(X_val60, y_val60),\n",
        "            epochs = 25, callbacks = [cp60, EarlyStopping(patience=4)])"
      ],
      "metadata": {
        "id": "WAI0zyWOpaRk"
      },
      "execution_count": null,
      "outputs": []
    },
    {
      "cell_type": "code",
      "source": [
        "plot_pred(model_60_2, X_val60, y_val60, 3)"
      ],
      "metadata": {
        "id": "DxY3ZnfVpaEB"
      },
      "execution_count": null,
      "outputs": []
    },
    {
      "cell_type": "code",
      "source": [
        "model_80_2 = model_80.compile(loss=MeanSquaredError(), optimizer=Adam(learning_rate=.00001),\n",
        "                 metrics=[RootMeanSquaredError()])\n",
        "model_80_2.fit(X_train80, y_train80, validation_data=(X_val80, y_val80),\n",
        "            epochs = 25, callbacks = [cp80, EarlyStopping(patience=4)])"
      ],
      "metadata": {
        "id": "DCFFpvMhYLcI"
      },
      "execution_count": null,
      "outputs": []
    },
    {
      "cell_type": "code",
      "source": [
        "plot_pred(model_80_2, X_val80, y_val80, 3)"
      ],
      "metadata": {
        "id": "l_S-pzQGI-H7"
      },
      "execution_count": null,
      "outputs": []
    }
  ],
  "metadata": {
    "kernelspec": {
      "display_name": "Python [conda env:tf-env] *",
      "language": "python",
      "name": "conda-env-tf-env-py"
    },
    "language_info": {
      "codemirror_mode": {
        "name": "ipython",
        "version": 3
      },
      "file_extension": ".py",
      "mimetype": "text/x-python",
      "name": "python",
      "nbconvert_exporter": "python",
      "pygments_lexer": "ipython3",
      "version": "3.8.5"
    },
    "toc": {
      "base_numbering": 1,
      "nav_menu": {},
      "number_sections": true,
      "sideBar": true,
      "skip_h1_title": false,
      "title_cell": "Table of Contents",
      "title_sidebar": "Contents",
      "toc_cell": false,
      "toc_position": {},
      "toc_section_display": true,
      "toc_window_display": false
    },
    "varInspector": {
      "cols": {
        "lenName": 16,
        "lenType": 16,
        "lenVar": 40
      },
      "kernels_config": {
        "python": {
          "delete_cmd_postfix": "",
          "delete_cmd_prefix": "del ",
          "library": "var_list.py",
          "varRefreshCmd": "print(var_dic_list())"
        },
        "r": {
          "delete_cmd_postfix": ") ",
          "delete_cmd_prefix": "rm(",
          "library": "var_list.r",
          "varRefreshCmd": "cat(var_dic_list()) "
        }
      },
      "types_to_exclude": [
        "module",
        "function",
        "builtin_function_or_method",
        "instance",
        "_Feature"
      ],
      "window_display": false
    },
    "colab": {
      "provenance": []
    }
  },
  "nbformat": 4,
  "nbformat_minor": 0
}