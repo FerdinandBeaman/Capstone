{
  "cells": [
    {
      "cell_type": "markdown",
      "metadata": {
        "id": "PEF-UOYKb2kC"
      },
      "source": [
        "The data comes from https://firstratedata.com/, but their free samples seem to be tied to the day you request to have them.\n",
        "\n",
        "I tried to find stocks in different fields.\n",
        "\n",
        "I didn't feel the need to test for trends because my window is so short (just a couple of weeks)"
      ]
    },
    {
      "cell_type": "code",
      "execution_count": 1,
      "metadata": {
        "ExecuteTime": {
          "end_time": "2024-03-19T15:50:31.491734Z",
          "start_time": "2024-03-19T15:50:29.733677Z"
        },
        "id": "IJtS7xfYb2kD"
      },
      "outputs": [],
      "source": [
        "import os # This was supposed to keep the kernal from crashing\n",
        "os.environ['KMP_DUPLICATE_LIB_OK']='True' #  :(\n",
        "\n",
        "import pandas as pd\n",
        "import matplotlib.pyplot as plt\n",
        "import numpy as np\n",
        "\n",
        "from sklearn.preprocessing import StandardScaler\n",
        "\n"
      ]
    },
    {
      "cell_type": "code",
      "execution_count": 3,
      "metadata": {
        "ExecuteTime": {
          "start_time": "2024-03-19T15:54:48.697Z"
        },
        "id": "Gevt2k3tb2kE"
      },
      "outputs": [],
      "source": [
        "import keras"
      ]
    },
    {
      "cell_type": "code",
      "execution_count": 4,
      "metadata": {
        "ExecuteTime": {
          "start_time": "2024-03-17T16:50:56.201Z"
        },
        "id": "-1Wedg02b2kE"
      },
      "outputs": [],
      "source": [
        "from keras.models import Sequential\n",
        "from keras.layers import Dense\n",
        "from keras.layers import GRU"
      ]
    },
    {
      "cell_type": "code",
      "execution_count": 5,
      "metadata": {
        "ExecuteTime": {
          "start_time": "2024-03-17T07:11:25.500Z"
        },
        "id": "QpCWdvKkb2kE"
      },
      "outputs": [],
      "source": [
        "df_aal = pd.read_csv(\"https://raw.githubusercontent.com/FerdinandBeaman/Capstone/main/1MinSamples/AAL_1min_sample.csv\")\n",
        "df_fdx = pd.read_csv(\"https://raw.githubusercontent.com/FerdinandBeaman/Capstone/main/1MinSamples/FDX_1min_sample.csv\")\n",
        "df_fis = pd.read_csv(\"https://raw.githubusercontent.com/FerdinandBeaman/Capstone/main/1MinSamples/FIS_1min_sample.csv\")\n",
        "df_mcy = pd.read_csv(\"https://raw.githubusercontent.com/FerdinandBeaman/Capstone/main/1MinSamples/M_1min_sample.csv\")\n",
        "df_spr = pd.read_csv(\"https://raw.githubusercontent.com/FerdinandBeaman/Capstone/main/1MinSamples/S_1min_sample.csv\")\n",
        "df_sbx = pd.read_csv(\"https://raw.githubusercontent.com/FerdinandBeaman/Capstone/main/1MinSamples/SBUX_1min_sample.csv\")\n",
        "df_tsl = pd.read_csv(\"https://raw.githubusercontent.com/FerdinandBeaman/Capstone/main/1MinSamples/TSLA_1min_sample.csv\")\n",
        "\n",
        "all_dfs = [df_aal, df_fdx, df_fis, df_mcy, df_sbx, df_spr, df_tsl]"
      ]
    },
    {
      "cell_type": "code",
      "execution_count": 6,
      "metadata": {
        "ExecuteTime": {
          "start_time": "2024-03-17T07:11:25.502Z"
        },
        "colab": {
          "base_uri": "https://localhost:8080/"
        },
        "id": "7Hcc13wrb2kE",
        "outputId": "f91aff5e-4677-4119-c357-12d0d803727e"
      },
      "outputs": [
        {
          "output_type": "stream",
          "name": "stdout",
          "text": [
            "5700\n",
            "4231\n",
            "4396\n",
            "5595\n",
            "4776\n",
            "5050\n",
            "10005\n"
          ]
        }
      ],
      "source": [
        "for df in all_dfs:\n",
        "    print(len(df))"
      ]
    },
    {
      "cell_type": "code",
      "execution_count": 7,
      "metadata": {
        "ExecuteTime": {
          "start_time": "2024-03-17T07:11:25.504Z"
        },
        "id": "nZpLusVCb2kE"
      },
      "outputs": [],
      "source": [
        "for df in all_dfs:\n",
        "    df['timestamp'] = pd.to_datetime(df['timestamp'])"
      ]
    },
    {
      "cell_type": "code",
      "execution_count": 8,
      "metadata": {
        "ExecuteTime": {
          "start_time": "2024-03-17T07:11:25.506Z"
        },
        "scrolled": true,
        "colab": {
          "base_uri": "https://localhost:8080/"
        },
        "id": "Z_3gTEGHb2kE",
        "outputId": "1396bc16-4ece-4b2c-e604-9a48f19e967b"
      },
      "outputs": [
        {
          "output_type": "stream",
          "name": "stdout",
          "text": [
            "<class 'pandas.core.frame.DataFrame'>\n",
            "RangeIndex: 5700 entries, 0 to 5699\n",
            "Data columns (total 6 columns):\n",
            " #   Column     Non-Null Count  Dtype         \n",
            "---  ------     --------------  -----         \n",
            " 0   timestamp  5700 non-null   datetime64[ns]\n",
            " 1   open       5700 non-null   float64       \n",
            " 2   high       5700 non-null   float64       \n",
            " 3   low        5700 non-null   float64       \n",
            " 4   close      5700 non-null   float64       \n",
            " 5   volume     5700 non-null   int64         \n",
            "dtypes: datetime64[ns](1), float64(4), int64(1)\n",
            "memory usage: 267.3 KB\n"
          ]
        }
      ],
      "source": [
        "df_aal.info()"
      ]
    },
    {
      "cell_type": "code",
      "execution_count": 9,
      "metadata": {
        "ExecuteTime": {
          "start_time": "2024-03-17T07:11:25.508Z"
        },
        "scrolled": true,
        "colab": {
          "base_uri": "https://localhost:8080/"
        },
        "id": "cd0bi-yub2kE",
        "outputId": "90193b73-9fe0-4c6b-d658-f46b4583c6ac"
      },
      "outputs": [
        {
          "output_type": "stream",
          "name": "stdout",
          "text": [
            "timestamp    0\n",
            "open         0\n",
            "high         0\n",
            "low          0\n",
            "close        0\n",
            "volume       0\n",
            "dtype: int64\n",
            "\n",
            "\n",
            "timestamp    0\n",
            "open         0\n",
            "high         0\n",
            "low          0\n",
            "close        0\n",
            "volume       0\n",
            "dtype: int64\n",
            "\n",
            "\n",
            "timestamp    0\n",
            "open         0\n",
            "high         0\n",
            "low          0\n",
            "close        0\n",
            "volume       0\n",
            "dtype: int64\n",
            "\n",
            "\n",
            "timestamp    0\n",
            "open         0\n",
            "high         0\n",
            "low          0\n",
            "close        0\n",
            "volume       0\n",
            "dtype: int64\n",
            "\n",
            "\n",
            "timestamp    0\n",
            "open         0\n",
            "high         0\n",
            "low          0\n",
            "close        0\n",
            "volume       0\n",
            "dtype: int64\n",
            "\n",
            "\n",
            "timestamp    0\n",
            "open         0\n",
            "high         0\n",
            "low          0\n",
            "close        0\n",
            "volume       0\n",
            "dtype: int64\n",
            "\n",
            "\n",
            "timestamp    0\n",
            "open         0\n",
            "high         0\n",
            "low          0\n",
            "close        0\n",
            "volume       0\n",
            "dtype: int64\n",
            "\n",
            "\n"
          ]
        }
      ],
      "source": [
        "for df in all_dfs:\n",
        "    print(df.isnull().sum())\n",
        "    print(\"\\n\")"
      ]
    },
    {
      "cell_type": "code",
      "execution_count": 10,
      "metadata": {
        "ExecuteTime": {
          "start_time": "2024-03-17T07:11:25.510Z"
        },
        "colab": {
          "base_uri": "https://localhost:8080/"
        },
        "id": "IelBpI09b2kE",
        "outputId": "e0fbadd9-a393-4028-eea9-c96e2c0d195f"
      },
      "outputs": [
        {
          "output_type": "stream",
          "name": "stdout",
          "text": [
            "2024-02-26 04:03:00\n",
            "2024-02-26 06:09:00\n",
            "2024-02-26 06:06:00\n",
            "2024-02-26 04:41:00\n",
            "2024-02-26 08:00:00\n",
            "2024-02-26 04:00:00\n",
            "2024-02-26 04:00:00\n"
          ]
        }
      ],
      "source": [
        "for df in all_dfs:\n",
        "    print(df[\"timestamp\"][0])"
      ]
    },
    {
      "cell_type": "code",
      "execution_count": 11,
      "metadata": {
        "ExecuteTime": {
          "start_time": "2024-03-17T07:11:25.512Z"
        },
        "scrolled": false,
        "colab": {
          "base_uri": "https://localhost:8080/"
        },
        "id": "aTt_AeuAb2kE",
        "outputId": "e04b3072-6507-4233-8feb-63f94dd33019"
      },
      "outputs": [
        {
          "output_type": "stream",
          "name": "stdout",
          "text": [
            "2024-03-11 19:44:00\n",
            "2024-03-11 18:11:00\n",
            "2024-03-11 16:00:00\n",
            "2024-03-11 19:39:00\n",
            "2024-03-11 19:04:00\n",
            "2024-03-11 19:38:00\n",
            "2024-03-11 19:54:00\n"
          ]
        }
      ],
      "source": [
        "for df in all_dfs:\n",
        "    print(df[\"timestamp\"].iloc[-1])"
      ]
    },
    {
      "cell_type": "code",
      "execution_count": null,
      "metadata": {
        "ExecuteTime": {
          "start_time": "2024-03-17T07:11:25.514Z"
        },
        "scrolled": true,
        "id": "GGvgdLY3b2kE"
      },
      "outputs": [],
      "source": [
        "for df in all_dfs:\n",
        "    df.set_index('timestamp', inplace=True)"
      ]
    },
    {
      "cell_type": "code",
      "execution_count": null,
      "metadata": {
        "ExecuteTime": {
          "start_time": "2024-03-17T07:11:25.516Z"
        },
        "id": "Hs5SRjSJb2kE"
      },
      "outputs": [],
      "source": [
        "for i, df in enumerate(all_dfs):\n",
        "    all_dfs[i].drop([\"high\", \"low\", \"close\"], axis = 1, inplace = True)"
      ]
    },
    {
      "cell_type": "code",
      "execution_count": null,
      "metadata": {
        "ExecuteTime": {
          "start_time": "2024-03-17T07:11:25.517Z"
        },
        "id": "NANS8yaeb2kE"
      },
      "outputs": [],
      "source": [
        "for i, df in enumerate(all_dfs):\n",
        "    all_dfs[i] = df.resample(\"1min\").asfreq().ffill()"
      ]
    },
    {
      "cell_type": "code",
      "execution_count": null,
      "metadata": {
        "ExecuteTime": {
          "start_time": "2024-03-17T07:11:25.519Z"
        },
        "id": "fnGgdlkAb2kE"
      },
      "outputs": [],
      "source": [
        "scaler = StandardScaler()\n",
        "\n",
        "for i, df in enumerate(all_dfs):\n",
        "    all_dfs[i][\"open\"] = scaler.fit_transform(np.array(\n",
        "        all_dfs[i][\"open\"]).reshape(-1,1))"
      ]
    },
    {
      "cell_type": "code",
      "execution_count": null,
      "metadata": {
        "ExecuteTime": {
          "start_time": "2024-03-17T07:11:25.521Z"
        },
        "id": "hhlffGNfb2kE"
      },
      "outputs": [],
      "source": [
        "for i, df in enumerate(all_dfs):\n",
        "    all_dfs[i] = df['2024-02-26 08:00' : \"2024-03-11 16:00\" ]"
      ]
    },
    {
      "cell_type": "code",
      "execution_count": null,
      "metadata": {
        "id": "4cgjYlAYb2kE"
      },
      "outputs": [],
      "source": []
    }
  ],
  "metadata": {
    "kernelspec": {
      "display_name": "Python [conda env:tf-env] *",
      "language": "python",
      "name": "conda-env-tf-env-py"
    },
    "language_info": {
      "codemirror_mode": {
        "name": "ipython",
        "version": 3
      },
      "file_extension": ".py",
      "mimetype": "text/x-python",
      "name": "python",
      "nbconvert_exporter": "python",
      "pygments_lexer": "ipython3",
      "version": "3.8.5"
    },
    "toc": {
      "base_numbering": 1,
      "nav_menu": {},
      "number_sections": true,
      "sideBar": true,
      "skip_h1_title": false,
      "title_cell": "Table of Contents",
      "title_sidebar": "Contents",
      "toc_cell": false,
      "toc_position": {},
      "toc_section_display": true,
      "toc_window_display": false
    },
    "varInspector": {
      "cols": {
        "lenName": 16,
        "lenType": 16,
        "lenVar": 40
      },
      "kernels_config": {
        "python": {
          "delete_cmd_postfix": "",
          "delete_cmd_prefix": "del ",
          "library": "var_list.py",
          "varRefreshCmd": "print(var_dic_list())"
        },
        "r": {
          "delete_cmd_postfix": ") ",
          "delete_cmd_prefix": "rm(",
          "library": "var_list.r",
          "varRefreshCmd": "cat(var_dic_list()) "
        }
      },
      "types_to_exclude": [
        "module",
        "function",
        "builtin_function_or_method",
        "instance",
        "_Feature"
      ],
      "window_display": false
    },
    "colab": {
      "provenance": []
    }
  },
  "nbformat": 4,
  "nbformat_minor": 0
}