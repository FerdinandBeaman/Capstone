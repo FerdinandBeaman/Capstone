{
  "cells": [
    {
      "cell_type": "markdown",
      "metadata": {
        "id": "PEF-UOYKb2kC"
      },
      "source": [
        "The data comes from https://firstratedata.com/, but their free samples seem to be tied to the day you request to have them.\n",
        "\n",
        "I tried to find stocks in different fields.\n",
        "\n",
        "I didn't feel the need to test for trends because my window is so short (just a couple of weeks)\n",
        "\n",
        "I chose to use GRU based on this paper: https://www.ncbi.nlm.nih.gov/pmc/articles/PMC9141105/#:~:text=2.4.-,Recurrent%20Neural%20Networks%20(RNNs),time%20intervals%20or%20time%20steps. Long Term Short Term networks may also work but they may be time intensive. \"GRUs are simplified version of LSTMs that use single “update gate” to control the flow of information into the memory cell. GRUs are easier to train and faster to run than LSTMs, but they may not be as effective at storing and accessing long-term dependencies.\""
      ]
    },
    {
      "cell_type": "markdown",
      "source": [
        "I have access to 10 days worth of minute-to-minute data, for 7 stocks in different fields. I used a \"walk forward\" stratedy to train my models: giving it two and a half days worth of data (from 8am day 1 to 11:59am on day 3) and then asked it to predict the price at noon, 2pm, and the closing price at 4pm on day 3. Once the model was tuned, I had it work from day 1 into the middle of day 4, and so on until the final day's worth of data was reached (the test set)."
      ],
      "metadata": {
        "id": "Z1U5IiT87zHn"
      }
    },
    {
      "cell_type": "code",
      "execution_count": 273,
      "metadata": {
        "ExecuteTime": {
          "end_time": "2024-03-19T15:50:31.491734Z",
          "start_time": "2024-03-19T15:50:29.733677Z"
        },
        "id": "IJtS7xfYb2kD"
      },
      "outputs": [],
      "source": [
        "import pandas as pd\n",
        "import matplotlib.pyplot as plt\n",
        "import numpy as np\n",
        "\n",
        "from sklearn.metrics import mean_squared_error as mse\n",
        "from sklearn.preprocessing import StandardScaler\n",
        "\n",
        "from datetime import datetime as dt\n",
        "\n",
        "from keras.models import Sequential\n",
        "from keras.layers import *\n",
        "from keras.losses import MeanSquaredError\n",
        "from keras.optimizers import Adam\n",
        "from keras.layers import GRU\n",
        "from keras.callbacks import ModelCheckpoint\n",
        "\n",
        "import tensorflow"
      ]
    },
    {
      "cell_type": "markdown",
      "source": [],
      "metadata": {
        "id": "xLWbOSV48jqg"
      }
    },
    {
      "cell_type": "code",
      "execution_count": 274,
      "metadata": {
        "ExecuteTime": {
          "start_time": "2024-03-17T07:11:25.500Z"
        },
        "id": "QpCWdvKkb2kE"
      },
      "outputs": [],
      "source": [
        "df_aal = pd.read_csv(\"https://raw.githubusercontent.com/FerdinandBeaman/Capstone/main/1MinSamples/AAL_1min_sample.csv\")\n",
        "df_fdx = pd.read_csv(\"https://raw.githubusercontent.com/FerdinandBeaman/Capstone/main/1MinSamples/FDX_1min_sample.csv\")\n",
        "df_fis = pd.read_csv(\"https://raw.githubusercontent.com/FerdinandBeaman/Capstone/main/1MinSamples/FIS_1min_sample.csv\")\n",
        "df_mcy = pd.read_csv(\"https://raw.githubusercontent.com/FerdinandBeaman/Capstone/main/1MinSamples/M_1min_sample.csv\")\n",
        "df_spr = pd.read_csv(\"https://raw.githubusercontent.com/FerdinandBeaman/Capstone/main/1MinSamples/S_1min_sample.csv\")\n",
        "df_sbx = pd.read_csv(\"https://raw.githubusercontent.com/FerdinandBeaman/Capstone/main/1MinSamples/SBUX_1min_sample.csv\")\n",
        "df_tsl = pd.read_csv(\"https://raw.githubusercontent.com/FerdinandBeaman/Capstone/main/1MinSamples/TSLA_1min_sample.csv\")\n",
        "\n",
        "all_dfs = [df_aal, df_fdx, df_fis, df_mcy, df_sbx, df_spr, df_tsl]"
      ]
    },
    {
      "cell_type": "code",
      "execution_count": 275,
      "metadata": {
        "ExecuteTime": {
          "start_time": "2024-03-17T07:11:25.502Z"
        },
        "colab": {
          "base_uri": "https://localhost:8080/"
        },
        "id": "7Hcc13wrb2kE",
        "outputId": "7d6b4956-684d-48ae-ba9b-95ba6549b2ec"
      },
      "outputs": [
        {
          "output_type": "stream",
          "name": "stdout",
          "text": [
            "5700\n",
            "4231\n",
            "4396\n",
            "5595\n",
            "4776\n",
            "5050\n",
            "10005\n"
          ]
        }
      ],
      "source": [
        "for df in all_dfs:\n",
        "    print(len(df))"
      ]
    },
    {
      "cell_type": "code",
      "execution_count": 276,
      "metadata": {
        "ExecuteTime": {
          "start_time": "2024-03-17T07:11:25.504Z"
        },
        "id": "nZpLusVCb2kE"
      },
      "outputs": [],
      "source": [
        "for df in all_dfs:\n",
        "    df['timestamp'] = pd.to_datetime(df['timestamp'])"
      ]
    },
    {
      "cell_type": "code",
      "execution_count": 277,
      "metadata": {
        "ExecuteTime": {
          "start_time": "2024-03-17T07:11:25.508Z"
        },
        "scrolled": true,
        "id": "cd0bi-yub2kE"
      },
      "outputs": [],
      "source": [
        "# for df in all_dfs:\n",
        "#     print(df.isnull().sum())\n",
        "#     print(\"\\n\")"
      ]
    },
    {
      "cell_type": "markdown",
      "source": [
        "Next, I am just looking for the latest time that any of my stocks began to track their prices and the earliest time that any of them stopped tracking their prices. This way, I can make all of my data uniform in length."
      ],
      "metadata": {
        "id": "UUyyD1QT9zYt"
      }
    },
    {
      "cell_type": "code",
      "execution_count": 278,
      "metadata": {
        "ExecuteTime": {
          "start_time": "2024-03-17T07:11:25.510Z"
        },
        "colab": {
          "base_uri": "https://localhost:8080/"
        },
        "id": "IelBpI09b2kE",
        "outputId": "69381e9a-634e-4022-ca73-854f1bb83777"
      },
      "outputs": [
        {
          "output_type": "stream",
          "name": "stdout",
          "text": [
            "2024-02-26 04:03:00\n",
            "2024-02-26 06:09:00\n",
            "2024-02-26 06:06:00\n",
            "2024-02-26 04:41:00\n",
            "2024-02-26 08:00:00\n",
            "2024-02-26 04:00:00\n",
            "2024-02-26 04:00:00\n"
          ]
        }
      ],
      "source": [
        "for df in all_dfs:\n",
        "    print(df[\"timestamp\"][0])"
      ]
    },
    {
      "cell_type": "code",
      "execution_count": 279,
      "metadata": {
        "ExecuteTime": {
          "start_time": "2024-03-17T07:11:25.512Z"
        },
        "scrolled": false,
        "colab": {
          "base_uri": "https://localhost:8080/"
        },
        "id": "aTt_AeuAb2kE",
        "outputId": "c47d0968-400a-4cf6-e9fe-2afb2b1982eb"
      },
      "outputs": [
        {
          "output_type": "stream",
          "name": "stdout",
          "text": [
            "2024-03-11 19:44:00\n",
            "2024-03-11 18:11:00\n",
            "2024-03-11 16:00:00\n",
            "2024-03-11 19:39:00\n",
            "2024-03-11 19:04:00\n",
            "2024-03-11 19:38:00\n",
            "2024-03-11 19:54:00\n"
          ]
        }
      ],
      "source": [
        "for df in all_dfs:\n",
        "    print(df[\"timestamp\"].iloc[-1])"
      ]
    },
    {
      "cell_type": "markdown",
      "source": [
        "So 8am on the 26th and 4pm on the 11th."
      ],
      "metadata": {
        "id": "fRhaeUn_-V0-"
      }
    },
    {
      "cell_type": "code",
      "execution_count": 280,
      "metadata": {
        "ExecuteTime": {
          "start_time": "2024-03-17T07:11:25.514Z"
        },
        "scrolled": true,
        "id": "GGvgdLY3b2kE"
      },
      "outputs": [],
      "source": [
        "for df in all_dfs:\n",
        "    df.set_index('timestamp', inplace=True)"
      ]
    },
    {
      "cell_type": "code",
      "execution_count": 281,
      "metadata": {
        "ExecuteTime": {
          "start_time": "2024-03-17T07:11:25.517Z"
        },
        "id": "NANS8yaeb2kE"
      },
      "outputs": [],
      "source": [
        "for i, df in enumerate(all_dfs):\n",
        "    all_dfs[i] = df.resample(\"1min\").asfreq().ffill()"
      ]
    },
    {
      "cell_type": "code",
      "execution_count": 282,
      "metadata": {
        "ExecuteTime": {
          "start_time": "2024-03-17T07:11:25.521Z"
        },
        "id": "hhlffGNfb2kE"
      },
      "outputs": [],
      "source": [
        "for i, df in enumerate(all_dfs):\n",
        "    all_dfs[i] = df['2024-02-26 08:00' : \"2024-03-11 16:00\" ]"
      ]
    },
    {
      "cell_type": "code",
      "execution_count": 283,
      "metadata": {
        "ExecuteTime": {
          "start_time": "2024-03-17T07:11:25.516Z"
        },
        "id": "Hs5SRjSJb2kE"
      },
      "outputs": [],
      "source": [
        "for i, df in enumerate(all_dfs):\n",
        "    all_dfs[i].drop([\"high\", \"low\", \"close\"], axis = 1, inplace = True)"
      ]
    },
    {
      "cell_type": "code",
      "source": [
        "seven_dfs = pd.concat(all_dfs, axis=1)"
      ],
      "metadata": {
        "id": "zGCVw_bREHRU"
      },
      "execution_count": 284,
      "outputs": []
    },
    {
      "cell_type": "code",
      "source": [
        "cols = [\"open_1\", \"volume_1\", \"open_2\", \"volume_2\", \"open_3\",\n",
        "                   \"volume_3\", \"open_4\", \"volume_4\", \"open_5\", \"volume_5\",\n",
        "                   \"open_6\", \"volume_6\", \"open_7\", \"volume_7\"]\n",
        "\n",
        "seven_dfs.set_axis(column_names, axis = 1, inplace = True)"
      ],
      "metadata": {
        "id": "grdFOm8zG6Pd",
        "outputId": "6432e130-78ca-45c5-a132-a3a823eeec1a",
        "colab": {
          "base_uri": "https://localhost:8080/"
        }
      },
      "execution_count": 285,
      "outputs": [
        {
          "output_type": "stream",
          "name": "stderr",
          "text": [
            "<ipython-input-285-665019512337>:5: FutureWarning: DataFrame.set_axis 'inplace' keyword is deprecated and will be removed in a future version. Use `obj = obj.set_axis(..., copy=False)` instead\n",
            "  seven_dfs.set_axis(column_names, axis = 1, inplace = True)\n"
          ]
        }
      ]
    },
    {
      "cell_type": "code",
      "source": [
        "# Getting the first one and a half days of data for the initial training set,\n",
        "# Then using that to scale all of my data.\n",
        "\n",
        "\n",
        "train_36_hrs = seven_dfs['2024-02-26 08:00' : \"2024-02-28 12:00\" ]\n",
        "\n",
        "scaler = StandardScaler()\n",
        "\n",
        "train_36_hrs[cols] = scaler.fit(train_36_hrs[cols])\n",
        "seven_dfs[cols] = scaler.transform(seven_dfs[cols])"
      ],
      "metadata": {
        "id": "HEUnOD_D9DpY",
        "outputId": "e6acf48e-0cd9-4fac-afd5-22bf66516588",
        "colab": {
          "base_uri": "https://localhost:8080/"
        }
      },
      "execution_count": 286,
      "outputs": [
        {
          "output_type": "stream",
          "name": "stderr",
          "text": [
            "<ipython-input-286-5950431c8b46>:9: SettingWithCopyWarning: \n",
            "A value is trying to be set on a copy of a slice from a DataFrame.\n",
            "Try using .loc[row_indexer,col_indexer] = value instead\n",
            "\n",
            "See the caveats in the documentation: https://pandas.pydata.org/pandas-docs/stable/user_guide/indexing.html#returning-a-view-versus-a-copy\n",
            "  train_36_hrs[cols] = scaler.fit(train_36_hrs[cols])\n"
          ]
        }
      ]
    },
    {
      "cell_type": "code",
      "source": [
        "seven_dfs.index[0].dayofweek"
      ],
      "metadata": {
        "id": "DRc-vuU0R-no",
        "outputId": "0f97b237-ddfa-4983-ce13-cf66951c4c7d",
        "colab": {
          "base_uri": "https://localhost:8080/"
        }
      },
      "execution_count": 287,
      "outputs": [
        {
          "output_type": "execute_result",
          "data": {
            "text/plain": [
              "0"
            ]
          },
          "metadata": {},
          "execution_count": 287
        }
      ]
    },
    {
      "cell_type": "code",
      "source": [
        "seven_dfs[\"hour\"] = np.nan\n",
        "for i in range(len(seven_dfs)):\n",
        "  seven_dfs[\"hour\"][i] = seven_dfs.index[i].hour\n",
        "\n",
        "seven_dfs[\"day\"] = np.nan\n",
        "for i in range(len(seven_dfs)):\n",
        "  seven_dfs[\"day\"][i] = seven_dfs.index[i].dayofweek"
      ],
      "metadata": {
        "id": "_yFKaVWeGRmS"
      },
      "execution_count": 288,
      "outputs": []
    },
    {
      "cell_type": "code",
      "source": [
        "seven_dfs.drop(seven_dfs[(seven_dfs[\"hour\"] < 8) |\n",
        "                        (seven_dfs[\"hour\"] > 15)].index, inplace = True)\n",
        "seven_dfs.drop(seven_dfs[seven_dfs[\"day\"] > 4].index, inplace = True)"
      ],
      "metadata": {
        "id": "MJ1wyJl1E4L1"
      },
      "execution_count": 289,
      "outputs": []
    },
    {
      "cell_type": "code",
      "source": [
        "len(seven_dfs)"
      ],
      "metadata": {
        "id": "IUrghRdQMAy7",
        "outputId": "02ff9770-5267-4214-839a-ed07e0b40d8d",
        "colab": {
          "base_uri": "https://localhost:8080/"
        }
      },
      "execution_count": 290,
      "outputs": [
        {
          "output_type": "execute_result",
          "data": {
            "text/plain": [
              "5280"
            ]
          },
          "metadata": {},
          "execution_count": 290
        }
      ]
    },
    {
      "cell_type": "code",
      "source": [
        "seven_dfs.open_1.plot()\n",
        "seven_dfs.open_2.plot()\n",
        "seven_dfs.open_3.plot()"
      ],
      "metadata": {
        "id": "dhHbSn7xWq_r",
        "outputId": "b201bf91-6b92-4788-b060-229a9d5c5416",
        "colab": {
          "base_uri": "https://localhost:8080/",
          "height": 462
        }
      },
      "execution_count": 291,
      "outputs": [
        {
          "output_type": "execute_result",
          "data": {
            "text/plain": [
              "<Axes: xlabel='timestamp'>"
            ]
          },
          "metadata": {},
          "execution_count": 291
        },
        {
          "output_type": "display_data",
          "data": {
            "text/plain": [
              "<Figure size 640x480 with 1 Axes>"
            ],
            "image/png": "[encoded data removed]"
          },
          "metadata": {}
        }
      ]
    },
    {
      "cell_type": "code",
      "source": [
        "seven_dfs[\"open_1\"][400:520].plot()"
      ],
      "metadata": {
        "id": "yYS7NpI9PHHA",
        "outputId": "049c51c9-c592-4bd5-802e-8d81c9f74ac0",
        "colab": {
          "base_uri": "https://localhost:8080/",
          "height": 453
        }
      },
      "execution_count": 292,
      "outputs": [
        {
          "output_type": "execute_result",
          "data": {
            "text/plain": [
              "<Axes: xlabel='timestamp'>"
            ]
          },
          "metadata": {},
          "execution_count": 292
        },
        {
          "output_type": "display_data",
          "data": {
            "text/plain": [
              "<Figure size 640x480 with 1 Axes>"
            ],
            "image/png": "[encoded data removed]"
          },
          "metadata": {}
        }
      ]
    },
    {
      "cell_type": "code",
      "source": [
        "seven_dfs.head()"
      ],
      "metadata": {
        "id": "w62keDnhGmSR",
        "outputId": "369ddcf6-2fe3-4332-ed47-2d6009952fed",
        "colab": {
          "base_uri": "https://localhost:8080/",
          "height": 344
        }
      },
      "execution_count": 293,
      "outputs": [
        {
          "output_type": "execute_result",
          "data": {
            "text/plain": [
              "                       open_1  volume_1    open_2  volume_2    open_3  \\\n",
              "timestamp                                                               \n",
              "2024-02-26 08:00:00 -2.100848 -0.093564  2.016769 -0.532078 -5.221488   \n",
              "2024-02-26 08:01:00 -2.100848 -0.093564  2.016769 -0.532078 -5.221488   \n",
              "2024-02-26 08:02:00 -2.100848 -0.093564  2.016769 -0.532078 -5.221488   \n",
              "2024-02-26 08:03:00 -2.100848 -0.093564  2.016769 -0.532078 -5.221488   \n",
              "2024-02-26 08:04:00 -2.325211 -0.214596  2.016769 -0.532078 -3.818034   \n",
              "\n",
              "                     volume_3    open_4  volume_4    open_5  volume_5  \\\n",
              "timestamp                                                               \n",
              "2024-02-26 08:00:00 -0.228318 -0.228851 -0.215751  3.020294 -0.138828   \n",
              "2024-02-26 08:01:00 -0.228318 -0.228851 -0.215751  3.020294 -0.138828   \n",
              "2024-02-26 08:02:00 -0.228318 -0.228851 -0.215751  3.020294 -0.138828   \n",
              "2024-02-26 08:03:00 -0.228318 -0.228851 -0.215751  3.020294 -0.138828   \n",
              "2024-02-26 08:04:00 -0.248721 -0.228851 -0.215751  2.531568 -0.133707   \n",
              "\n",
              "                       open_6  volume_6    open_7  volume_7  hour  day  \n",
              "timestamp                                                               \n",
              "2024-02-26 08:00:00 -3.257354  0.024639 -3.811763  0.080885   8.0  0.0  \n",
              "2024-02-26 08:01:00 -3.991742 -0.164978 -4.343619 -0.503601   8.0  0.0  \n",
              "2024-02-26 08:02:00 -3.514390 -0.177344 -3.912113 -0.476202   8.0  0.0  \n",
              "2024-02-26 08:03:00 -3.514390 -0.177344 -4.343619 -0.486180   8.0  0.0  \n",
              "2024-02-26 08:04:00 -3.587829 -0.181466 -3.972323 -0.458725   8.0  0.0  "
            ],
            "text/html": [
              "\n",
              "  <div id=\"df-1a49fabe-383e-47f2-bbdc-bd01ac8d8e76\" class=\"colab-df-container\">\n",
              "    <div>\n",
              "<style scoped>\n",
              "    .dataframe tbody tr th:only-of-type {\n",
              "        vertical-align: middle;\n",
              "    }\n",
              "\n",
              "    .dataframe tbody tr th {\n",
              "        vertical-align: top;\n",
              "    }\n",
              "\n",
              "    .dataframe thead th {\n",
              "        text-align: right;\n",
              "    }\n",
              "</style>\n",
              "<table border=\"1\" class=\"dataframe\">\n",
              "  <thead>\n",
              "    <tr style=\"text-align: right;\">\n",
              "      <th></th>\n",
              "      <th>open_1</th>\n",
              "      <th>volume_1</th>\n",
              "      <th>open_2</th>\n",
              "      <th>volume_2</th>\n",
              "      <th>open_3</th>\n",
              "      <th>volume_3</th>\n",
              "      <th>open_4</th>\n",
              "      <th>volume_4</th>\n",
              "      <th>open_5</th>\n",
              "      <th>volume_5</th>\n",
              "      <th>open_6</th>\n",
              "      <th>volume_6</th>\n",
              "      <th>open_7</th>\n",
              "      <th>volume_7</th>\n",
              "      <th>hour</th>\n",
              "      <th>day</th>\n",
              "    </tr>\n",
              "    <tr>\n",
              "      <th>timestamp</th>\n",
              "      <th></th>\n",
              "      <th></th>\n",
              "      <th></th>\n",
              "      <th></th>\n",
              "      <th></th>\n",
              "      <th></th>\n",
              "      <th></th>\n",
              "      <th></th>\n",
              "      <th></th>\n",
              "      <th></th>\n",
              "      <th></th>\n",
              "      <th></th>\n",
              "      <th></th>\n",
              "      <th></th>\n",
              "      <th></th>\n",
              "      <th></th>\n",
              "    </tr>\n",
              "  </thead>\n",
              "  <tbody>\n",
              "    <tr>\n",
              "      <th>2024-02-26 08:00:00</th>\n",
              "      <td>-2.100848</td>\n",
              "      <td>-0.093564</td>\n",
              "      <td>2.016769</td>\n",
              "      <td>-0.532078</td>\n",
              "      <td>-5.221488</td>\n",
              "      <td>-0.228318</td>\n",
              "      <td>-0.228851</td>\n",
              "      <td>-0.215751</td>\n",
              "      <td>3.020294</td>\n",
              "      <td>-0.138828</td>\n",
              "      <td>-3.257354</td>\n",
              "      <td>0.024639</td>\n",
              "      <td>-3.811763</td>\n",
              "      <td>0.080885</td>\n",
              "      <td>8.0</td>\n",
              "      <td>0.0</td>\n",
              "    </tr>\n",
              "    <tr>\n",
              "      <th>2024-02-26 08:01:00</th>\n",
              "      <td>-2.100848</td>\n",
              "      <td>-0.093564</td>\n",
              "      <td>2.016769</td>\n",
              "      <td>-0.532078</td>\n",
              "      <td>-5.221488</td>\n",
              "      <td>-0.228318</td>\n",
              "      <td>-0.228851</td>\n",
              "      <td>-0.215751</td>\n",
              "      <td>3.020294</td>\n",
              "      <td>-0.138828</td>\n",
              "      <td>-3.991742</td>\n",
              "      <td>-0.164978</td>\n",
              "      <td>-4.343619</td>\n",
              "      <td>-0.503601</td>\n",
              "      <td>8.0</td>\n",
              "      <td>0.0</td>\n",
              "    </tr>\n",
              "    <tr>\n",
              "      <th>2024-02-26 08:02:00</th>\n",
              "      <td>-2.100848</td>\n",
              "      <td>-0.093564</td>\n",
              "      <td>2.016769</td>\n",
              "      <td>-0.532078</td>\n",
              "      <td>-5.221488</td>\n",
              "      <td>-0.228318</td>\n",
              "      <td>-0.228851</td>\n",
              "      <td>-0.215751</td>\n",
              "      <td>3.020294</td>\n",
              "      <td>-0.138828</td>\n",
              "      <td>-3.514390</td>\n",
              "      <td>-0.177344</td>\n",
              "      <td>-3.912113</td>\n",
              "      <td>-0.476202</td>\n",
              "      <td>8.0</td>\n",
              "      <td>0.0</td>\n",
              "    </tr>\n",
              "    <tr>\n",
              "      <th>2024-02-26 08:03:00</th>\n",
              "      <td>-2.100848</td>\n",
              "      <td>-0.093564</td>\n",
              "      <td>2.016769</td>\n",
              "      <td>-0.532078</td>\n",
              "      <td>-5.221488</td>\n",
              "      <td>-0.228318</td>\n",
              "      <td>-0.228851</td>\n",
              "      <td>-0.215751</td>\n",
              "      <td>3.020294</td>\n",
              "      <td>-0.138828</td>\n",
              "      <td>-3.514390</td>\n",
              "      <td>-0.177344</td>\n",
              "      <td>-4.343619</td>\n",
              "      <td>-0.486180</td>\n",
              "      <td>8.0</td>\n",
              "      <td>0.0</td>\n",
              "    </tr>\n",
              "    <tr>\n",
              "      <th>2024-02-26 08:04:00</th>\n",
              "      <td>-2.325211</td>\n",
              "      <td>-0.214596</td>\n",
              "      <td>2.016769</td>\n",
              "      <td>-0.532078</td>\n",
              "      <td>-3.818034</td>\n",
              "      <td>-0.248721</td>\n",
              "      <td>-0.228851</td>\n",
              "      <td>-0.215751</td>\n",
              "      <td>2.531568</td>\n",
              "      <td>-0.133707</td>\n",
              "      <td>-3.587829</td>\n",
              "      <td>-0.181466</td>\n",
              "      <td>-3.972323</td>\n",
              "      <td>-0.458725</td>\n",
              "      <td>8.0</td>\n",
              "      <td>0.0</td>\n",
              "    </tr>\n",
              "  </tbody>\n",
              "</table>\n",
              "</div>\n",
              "    <div class=\"colab-df-buttons\">\n",
              "\n",
              "  <div class=\"colab-df-container\">\n",
              "    <button class=\"colab-df-convert\" onclick=\"convertToInteractive('df-1a49fabe-383e-47f2-bbdc-bd01ac8d8e76')\"\n",
              "            title=\"Convert this dataframe to an interactive table.\"\n",
              "            style=\"display:none;\">\n",
              "\n",
              "  <svg xmlns=\"http://www.w3.org/2000/svg\" height=\"24px\" viewBox=\"0 -960 960 960\">\n",
              "    <path d=\"M120-120v-720h720v720H120Zm60-500h600v-160H180v160Zm220 220h160v-160H400v160Zm0 220h160v-160H400v160ZM180-400h160v-160H180v160Zm440 0h160v-160H620v160ZM180-180h160v-160H180v160Zm440 0h160v-160H620v160Z\"/>\n",
              "  </svg>\n",
              "    </button>\n",
              "\n",
              "  <style>\n",
              "    .colab-df-container {\n",
              "      display:flex;\n",
              "      gap: 12px;\n",
              "    }\n",
              "\n",
              "    .colab-df-convert {\n",
              "      background-color: #E8F0FE;\n",
              "      border: none;\n",
              "      border-radius: 50%;\n",
              "      cursor: pointer;\n",
              "      display: none;\n",
              "      fill: #1967D2;\n",
              "      height: 32px;\n",
              "      padding: 0 0 0 0;\n",
              "      width: 32px;\n",
              "    }\n",
              "\n",
              "    .colab-df-convert:hover {\n",
              "      background-color: #E2EBFA;\n",
              "      box-shadow: 0px 1px 2px rgba(60, 64, 67, 0.3), 0px 1px 3px 1px rgba(60, 64, 67, 0.15);\n",
              "      fill: #174EA6;\n",
              "    }\n",
              "\n",
              "    .colab-df-buttons div {\n",
              "      margin-bottom: 4px;\n",
              "    }\n",
              "\n",
              "    [theme=dark] .colab-df-convert {\n",
              "      background-color: #3B4455;\n",
              "      fill: #D2E3FC;\n",
              "    }\n",
              "\n",
              "    [theme=dark] .colab-df-convert:hover {\n",
              "      background-color: #434B5C;\n",
              "      box-shadow: 0px 1px 3px 1px rgba(0, 0, 0, 0.15);\n",
              "      filter: drop-shadow(0px 1px 2px rgba(0, 0, 0, 0.3));\n",
              "      fill: #FFFFFF;\n",
              "    }\n",
              "  </style>\n",
              "\n",
              "    <script>\n",
              "      const buttonEl =\n",
              "        document.querySelector('#df-1a49fabe-383e-47f2-bbdc-bd01ac8d8e76 button.colab-df-convert');\n",
              "      buttonEl.style.display =\n",
              "        google.colab.kernel.accessAllowed ? 'block' : 'none';\n",
              "\n",
              "      async function convertToInteractive(key) {\n",
              "        const element = document.querySelector('#df-1a49fabe-383e-47f2-bbdc-bd01ac8d8e76');\n",
              "        const dataTable =\n",
              "          await google.colab.kernel.invokeFunction('convertToInteractive',\n",
              "                                                    [key], {});\n",
              "        if (!dataTable) return;\n",
              "\n",
              "        const docLinkHtml = 'Like what you see? Visit the ' +\n",
              "          '<a target=\"_blank\" href=https://colab.research.google.com/notebooks/data_table.ipynb>data table notebook</a>'\n",
              "          + ' to learn more about interactive tables.';\n",
              "        element.innerHTML = '';\n",
              "        dataTable['output_type'] = 'display_data';\n",
              "        await google.colab.output.renderOutput(dataTable, element);\n",
              "        const docLink = document.createElement('div');\n",
              "        docLink.innerHTML = docLinkHtml;\n",
              "        element.appendChild(docLink);\n",
              "      }\n",
              "    </script>\n",
              "  </div>\n",
              "\n",
              "\n",
              "<div id=\"df-040d3a51-abc3-41ac-b081-6f97be109c21\">\n",
              "  <button class=\"colab-df-quickchart\" onclick=\"quickchart('df-040d3a51-abc3-41ac-b081-6f97be109c21')\"\n",
              "            title=\"Suggest charts\"\n",
              "            style=\"display:none;\">\n",
              "\n",
              "<svg xmlns=\"http://www.w3.org/2000/svg\" height=\"24px\"viewBox=\"0 0 24 24\"\n",
              "     width=\"24px\">\n",
              "    <g>\n",
              "        <path d=\"M19 3H5c-1.1 0-2 .9-2 2v14c0 1.1.9 2 2 2h14c1.1 0 2-.9 2-2V5c0-1.1-.9-2-2-2zM9 17H7v-7h2v7zm4 0h-2V7h2v10zm4 0h-2v-4h2v4z\"/>\n",
              "    </g>\n",
              "</svg>\n",
              "  </button>\n",
              "\n",
              "<style>\n",
              "  .colab-df-quickchart {\n",
              "      --bg-color: #E8F0FE;\n",
              "      --fill-color: #1967D2;\n",
              "      --hover-bg-color: #E2EBFA;\n",
              "      --hover-fill-color: #174EA6;\n",
              "      --disabled-fill-color: #AAA;\n",
              "      --disabled-bg-color: #DDD;\n",
              "  }\n",
              "\n",
              "  [theme=dark] .colab-df-quickchart {\n",
              "      --bg-color: #3B4455;\n",
              "      --fill-color: #D2E3FC;\n",
              "      --hover-bg-color: #434B5C;\n",
              "      --hover-fill-color: #FFFFFF;\n",
              "      --disabled-bg-color: #3B4455;\n",
              "      --disabled-fill-color: #666;\n",
              "  }\n",
              "\n",
              "  .colab-df-quickchart {\n",
              "    background-color: var(--bg-color);\n",
              "    border: none;\n",
              "    border-radius: 50%;\n",
              "    cursor: pointer;\n",
              "    display: none;\n",
              "    fill: var(--fill-color);\n",
              "    height: 32px;\n",
              "    padding: 0;\n",
              "    width: 32px;\n",
              "  }\n",
              "\n",
              "  .colab-df-quickchart:hover {\n",
              "    background-color: var(--hover-bg-color);\n",
              "    box-shadow: 0 1px 2px rgba(60, 64, 67, 0.3), 0 1px 3px 1px rgba(60, 64, 67, 0.15);\n",
              "    fill: var(--button-hover-fill-color);\n",
              "  }\n",
              "\n",
              "  .colab-df-quickchart-complete:disabled,\n",
              "  .colab-df-quickchart-complete:disabled:hover {\n",
              "    background-color: var(--disabled-bg-color);\n",
              "    fill: var(--disabled-fill-color);\n",
              "    box-shadow: none;\n",
              "  }\n",
              "\n",
              "  .colab-df-spinner {\n",
              "    border: 2px solid var(--fill-color);\n",
              "    border-color: transparent;\n",
              "    border-bottom-color: var(--fill-color);\n",
              "    animation:\n",
              "      spin 1s steps(1) infinite;\n",
              "  }\n",
              "\n",
              "  @keyframes spin {\n",
              "    0% {\n",
              "      border-color: transparent;\n",
              "      border-bottom-color: var(--fill-color);\n",
              "      border-left-color: var(--fill-color);\n",
              "    }\n",
              "    20% {\n",
              "      border-color: transparent;\n",
              "      border-left-color: var(--fill-color);\n",
              "      border-top-color: var(--fill-color);\n",
              "    }\n",
              "    30% {\n",
              "      border-color: transparent;\n",
              "      border-left-color: var(--fill-color);\n",
              "      border-top-color: var(--fill-color);\n",
              "      border-right-color: var(--fill-color);\n",
              "    }\n",
              "    40% {\n",
              "      border-color: transparent;\n",
              "      border-right-color: var(--fill-color);\n",
              "      border-top-color: var(--fill-color);\n",
              "    }\n",
              "    60% {\n",
              "      border-color: transparent;\n",
              "      border-right-color: var(--fill-color);\n",
              "    }\n",
              "    80% {\n",
              "      border-color: transparent;\n",
              "      border-right-color: var(--fill-color);\n",
              "      border-bottom-color: var(--fill-color);\n",
              "    }\n",
              "    90% {\n",
              "      border-color: transparent;\n",
              "      border-bottom-color: var(--fill-color);\n",
              "    }\n",
              "  }\n",
              "</style>\n",
              "\n",
              "  <script>\n",
              "    async function quickchart(key) {\n",
              "      const quickchartButtonEl =\n",
              "        document.querySelector('#' + key + ' button');\n",
              "      quickchartButtonEl.disabled = true;  // To prevent multiple clicks.\n",
              "      quickchartButtonEl.classList.add('colab-df-spinner');\n",
              "      try {\n",
              "        const charts = await google.colab.kernel.invokeFunction(\n",
              "            'suggestCharts', [key], {});\n",
              "      } catch (error) {\n",
              "        console.error('Error during call to suggestCharts:', error);\n",
              "      }\n",
              "      quickchartButtonEl.classList.remove('colab-df-spinner');\n",
              "      quickchartButtonEl.classList.add('colab-df-quickchart-complete');\n",
              "    }\n",
              "    (() => {\n",
              "      let quickchartButtonEl =\n",
              "        document.querySelector('#df-040d3a51-abc3-41ac-b081-6f97be109c21 button');\n",
              "      quickchartButtonEl.style.display =\n",
              "        google.colab.kernel.accessAllowed ? 'block' : 'none';\n",
              "    })();\n",
              "  </script>\n",
              "</div>\n",
              "\n",
              "    </div>\n",
              "  </div>\n"
            ],
            "application/vnd.google.colaboratory.intrinsic+json": {
              "type": "dataframe",
              "variable_name": "seven_dfs",
              "summary": "{\n  \"name\": \"seven_dfs\",\n  \"rows\": 5280,\n  \"fields\": [\n    {\n      \"column\": \"timestamp\",\n      \"properties\": {\n        \"dtype\": \"date\",\n        \"min\": \"2024-02-26 08:00:00\",\n        \"max\": \"2024-03-11 15:59:00\",\n        \"num_unique_values\": 5280,\n        \"samples\": [\n          \"2024-02-26 08:08:00\",\n          \"2024-02-29 10:20:00\",\n          \"2024-02-27 09:04:00\"\n        ],\n        \"semantic_type\": \"\",\n        \"description\": \"\"\n      }\n    },\n    {\n      \"column\": \"open_1\",\n      \"properties\": {\n        \"dtype\": \"number\",\n        \"std\": 3.144414176729964,\n        \"min\": -8.464875733621305,\n        \"max\": 5.1409240519121315,\n        \"num_unique_values\": 1116,\n        \"samples\": [\n          -2.5533641722076372,\n          -0.9153623150189099,\n          4.989327396920119\n        ],\n        \"semantic_type\": \"\",\n        \"description\": \"\"\n      }\n    },\n    {\n      \"column\": \"volume_1\",\n      \"properties\": {\n        \"dtype\": \"number\",\n        \"std\": 0.9579930084823293,\n        \"min\": -0.228474281248301,\n        \"max\": 19.7166906200359,\n        \"num_unique_values\": 4490,\n        \"samples\": [\n          0.23999370106325973,\n          1.558216314407296,\n          -0.21005977761811895\n        ],\n        \"semantic_type\": \"\",\n        \"description\": \"\"\n      }\n    },\n    {\n      \"column\": \"open_2\",\n      \"properties\": {\n        \"dtype\": \"number\",\n        \"std\": 6.060446562418702,\n        \"min\": -4.119751085501758,\n        \"max\": 23.059031555711638,\n        \"num_unique_values\": 1601,\n        \"samples\": [\n          11.61839014477352,\n          0.17290920701182955,\n          -0.09326476828498721\n        ],\n        \"semantic_type\": \"\",\n        \"description\": \"\"\n      }\n    },\n    {\n      \"column\": \"volume_2\",\n      \"properties\": {\n        \"dtype\": \"number\",\n        \"std\": 0.26151783050214533,\n        \"min\": -0.5320778400748193,\n        \"max\": 11.071016138325824,\n        \"num_unique_values\": 1888,\n        \"samples\": [\n          -0.4438836670031488,\n          -0.4048572208699274,\n          -0.11705466560432538\n        ],\n        \"semantic_type\": \"\",\n        \"description\": \"\"\n      }\n    },\n    {\n      \"column\": \"open_3\",\n      \"properties\": {\n        \"dtype\": \"number\",\n        \"std\": 1.8097773159439792,\n        \"min\": -5.735876477487786,\n        \"max\": 4.43758129723895,\n        \"num_unique_values\": 963,\n        \"samples\": [\n          2.7610564205049637,\n          -0.35702583129956444,\n          0.5447413372467608\n        ],\n        \"semantic_type\": \"\",\n        \"description\": \"\"\n      }\n    },\n    {\n      \"column\": \"volume_3\",\n      \"properties\": {\n        \"dtype\": \"number\",\n        \"std\": 0.4624293270659302,\n        \"min\": -0.2487212315455994,\n        \"max\": 3.2420893412214453,\n        \"num_unique_values\": 3508,\n        \"samples\": [\n          -0.24156655147508985,\n          -0.09133867307443827,\n          -0.24245068494387906\n        ],\n        \"semantic_type\": \"\",\n        \"description\": \"\"\n      }\n    },\n    {\n      \"column\": \"open_4\",\n      \"properties\": {\n        \"dtype\": \"number\",\n        \"std\": 3.2903956742528306,\n        \"min\": -7.3821628280888145,\n        \"max\": 5.482024237915771,\n        \"num_unique_values\": 1218,\n        \"samples\": [\n          -4.850537913497523,\n          1.6698681165253992,\n          -0.30244431693526413\n        ],\n        \"semantic_type\": \"\",\n        \"description\": \"\"\n      }\n    },\n    {\n      \"column\": \"volume_4\",\n      \"properties\": {\n        \"dtype\": \"number\",\n        \"std\": 0.9127208599773949,\n        \"min\": -0.246766122011965,\n        \"max\": 15.819410583485475,\n        \"num_unique_values\": 4174,\n        \"samples\": [\n          1.7543271114191266,\n          0.10623895111946616,\n          0.7503370029766354\n        ],\n        \"semantic_type\": \"\",\n        \"description\": \"\"\n      }\n    },\n    {\n      \"column\": \"open_5\",\n      \"properties\": {\n        \"dtype\": \"number\",\n        \"std\": 3.3243762262724026,\n        \"min\": -9.637700719963746,\n        \"max\": 3.044730173622594,\n        \"num_unique_values\": 1294,\n        \"samples\": [\n          -1.7692175836731836,\n          -3.443102971362331,\n          -0.9354516066227657\n        ],\n        \"semantic_type\": \"\",\n        \"description\": \"\"\n      }\n    },\n    {\n      \"column\": \"volume_5\",\n      \"properties\": {\n        \"dtype\": \"number\",\n        \"std\": 0.4644461638850162,\n        \"min\": -0.13882848268751077,\n        \"max\": 12.514631162592371,\n        \"num_unique_values\": 3863,\n        \"samples\": [\n          0.6564001354633083,\n          0.5698122571315996,\n          0.05405098741673413\n        ],\n        \"semantic_type\": \"\",\n        \"description\": \"\"\n      }\n    },\n    {\n      \"column\": \"open_6\",\n      \"properties\": {\n        \"dtype\": \"number\",\n        \"std\": 3.0525887473382705,\n        \"min\": -11.941495712450248,\n        \"max\": 3.1318240667680013,\n        \"num_unique_values\": 931,\n        \"samples\": [\n          -5.024292350674037,\n          -1.2377862955388768,\n          -10.399280290459593\n        ],\n        \"semantic_type\": \"\",\n        \"description\": \"\"\n      }\n    },\n    {\n      \"column\": \"volume_6\",\n      \"properties\": {\n        \"dtype\": \"number\",\n        \"std\": 0.644753280984049,\n        \"min\": -0.18146610331832339,\n        \"max\": 20.006541623653323,\n        \"num_unique_values\": 3730,\n        \"samples\": [\n          -0.08661647436526211,\n          0.41623907695955076,\n          0.5062658434234734\n        ],\n        \"semantic_type\": \"\",\n        \"description\": \"\"\n      }\n    },\n    {\n      \"column\": \"open_7\",\n      \"properties\": {\n        \"dtype\": \"number\",\n        \"std\": 5.576120878199142,\n        \"min\": -13.526821644032463,\n        \"max\": 2.590583343757086,\n        \"num_unique_values\": 3439,\n        \"samples\": [\n          -5.778577751676025,\n          -11.621371001281807,\n          1.4842217819113848\n        ],\n        \"semantic_type\": \"\",\n        \"description\": \"\"\n      }\n    },\n    {\n      \"column\": \"volume_7\",\n      \"properties\": {\n        \"dtype\": \"number\",\n        \"std\": 1.0570366446635895,\n        \"min\": -0.52598590680267,\n        \"max\": 13.394200606536277,\n        \"num_unique_values\": 5226,\n        \"samples\": [\n          0.7014443445813778,\n          0.3392376925916381,\n          -0.5086279395061329\n        ],\n        \"semantic_type\": \"\",\n        \"description\": \"\"\n      }\n    },\n    {\n      \"column\": \"hour\",\n      \"properties\": {\n        \"dtype\": \"number\",\n        \"std\": 2.291504856319386,\n        \"min\": 8.0,\n        \"max\": 15.0,\n        \"num_unique_values\": 8,\n        \"samples\": [\n          9.0,\n          13.0,\n          8.0\n        ],\n        \"semantic_type\": \"\",\n        \"description\": \"\"\n      }\n    },\n    {\n      \"column\": \"day\",\n      \"properties\": {\n        \"dtype\": \"number\",\n        \"std\": 1.4660038778438158,\n        \"min\": 0.0,\n        \"max\": 4.0,\n        \"num_unique_values\": 5,\n        \"samples\": [\n          1.0,\n          4.0,\n          2.0\n        ],\n        \"semantic_type\": \"\",\n        \"description\": \"\"\n      }\n    }\n  ]\n}"
            }
          },
          "metadata": {},
          "execution_count": 293
        }
      ]
    },
    {
      "cell_type": "code",
      "source": [
        "# Code repurposed from Greg Hogg: https://www.youtube.com/watch?v=c0k-YLQGKjY\n",
        "def df_to_Xy(df, window):\n",
        "  df_as_np = df.to_numpy()\n",
        "  X = []\n",
        "  y = []\n",
        "  for i in range(len(df)-window):\n",
        "    X.append([[a] for a in df_as_np[i:i+window]])\n",
        "    y.append(df_as_np[i+window])\n",
        "  return np.array(X), np.array(y)"
      ],
      "metadata": {
        "id": "WJ6V8lNl4eNO"
      },
      "execution_count": 3,
      "outputs": []
    },
    {
      "cell_type": "code",
      "source": [
        "X, y = df_to_Xy"
      ],
      "metadata": {
        "id": "5ZsruE_OAsqC"
      },
      "execution_count": null,
      "outputs": []
    },
    {
      "cell_type": "code",
      "execution_count": 44,
      "metadata": {
        "id": "4cgjYlAYb2kE"
      },
      "outputs": [],
      "source": [
        "model_1 = Sequential()\n",
        "model_1.add(InputLayer(3120, 14))\n",
        "model_1.add(GRU(7))"
      ]
    },
    {
      "cell_type": "code",
      "source": [
        "# Code repurposed from Greg Hogg: https://www.youtube.com/watch?v=kGdbPnMCdOg\n",
        "\n",
        "\n",
        "def plot_pred(model, X, y, start=0, end=3601):\n",
        "  preds = model.predict(X).flatten()\n",
        "  df = pd.DataFrame(data{\"Predictions\":preds, \"Actuals\":y})\n",
        "  plt.plot(df[\"Predictions\"][start:end])\n",
        "  plt.plot(df[\"Actuals\"][start:end])\n",
        "  return df, mse(y, preds)"
      ],
      "metadata": {
        "id": "QprBB7KCHT2c"
      },
      "execution_count": null,
      "outputs": []
    }
  ],
  "metadata": {
    "kernelspec": {
      "display_name": "Python [conda env:tf-env] *",
      "language": "python",
      "name": "conda-env-tf-env-py"
    },
    "language_info": {
      "codemirror_mode": {
        "name": "ipython",
        "version": 3
      },
      "file_extension": ".py",
      "mimetype": "text/x-python",
      "name": "python",
      "nbconvert_exporter": "python",
      "pygments_lexer": "ipython3",
      "version": "3.8.5"
    },
    "toc": {
      "base_numbering": 1,
      "nav_menu": {},
      "number_sections": true,
      "sideBar": true,
      "skip_h1_title": false,
      "title_cell": "Table of Contents",
      "title_sidebar": "Contents",
      "toc_cell": false,
      "toc_position": {},
      "toc_section_display": true,
      "toc_window_display": false
    },
    "varInspector": {
      "cols": {
        "lenName": 16,
        "lenType": 16,
        "lenVar": 40
      },
      "kernels_config": {
        "python": {
          "delete_cmd_postfix": "",
          "delete_cmd_prefix": "del ",
          "library": "var_list.py",
          "varRefreshCmd": "print(var_dic_list())"
        },
        "r": {
          "delete_cmd_postfix": ") ",
          "delete_cmd_prefix": "rm(",
          "library": "var_list.r",
          "varRefreshCmd": "cat(var_dic_list()) "
        }
      },
      "types_to_exclude": [
        "module",
        "function",
        "builtin_function_or_method",
        "instance",
        "_Feature"
      ],
      "window_display": false
    },
    "colab": {
      "provenance": []
    }
  },
  "nbformat": 4,
  "nbformat_minor": 0
}