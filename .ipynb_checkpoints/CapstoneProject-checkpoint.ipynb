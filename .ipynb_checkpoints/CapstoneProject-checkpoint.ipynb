{
 "cells": [
  {
   "cell_type": "markdown",
   "metadata": {},
   "source": [
    "The data comes from https://firstratedata.com/, but their free samples seem to be tied to the day you request to have them.\n",
    "\n",
    "I tried to find stocks in different fields.\n",
    "\n",
    "I didn't feel the need to test for trends because my window is so short (just a couple of weeks)"
   ]
  },
  {
   "cell_type": "code",
   "execution_count": 1,
   "metadata": {
    "ExecuteTime": {
     "end_time": "2024-03-19T15:50:31.491734Z",
     "start_time": "2024-03-19T15:50:29.733677Z"
    }
   },
   "outputs": [],
   "source": [
    "import os # This was supposed to keep the kernal from crashing\n",
    "os.environ['KMP_DUPLICATE_LIB_OK']='True' #  :(\n",
    "\n",
    "import pandas as pd\n",
    "import matplotlib.pyplot as plt\n",
    "import numpy as np\n",
    "\n",
    "from sklearn.preprocessing import StandardScaler\n",
    "\n"
   ]
  },
  {
   "cell_type": "code",
   "execution_count": 2,
   "metadata": {
    "ExecuteTime": {
     "end_time": "2024-03-19T15:50:57.326116Z",
     "start_time": "2024-03-19T15:50:44.490851Z"
    },
    "scrolled": true
   },
   "outputs": [
    {
     "name": "stdout",
     "output_type": "stream",
     "text": [
      "Collecting package metadata (current_repodata.json): done\n",
      "Solving environment: done\n",
      "\n",
      "\n",
      "==> WARNING: A newer version of conda exists. <==\n",
      "  current version: 4.10.3\n",
      "  latest version: 24.3.0\n",
      "\n",
      "Please update conda by running\n",
      "\n",
      "    $ conda update -n base -c defaults conda\n",
      "\n",
      "\n",
      "\n",
      "## Package Plan ##\n",
      "\n",
      "  environment location: /Users/ferdi/opt/anaconda3/envs/learn-env\n",
      "\n",
      "  added / updated specs:\n",
      "    - mkl\n",
      "\n",
      "\n",
      "The following packages will be SUPERSEDED by a higher-priority channel:\n",
      "\n",
      "  ca-certificates    anaconda::ca-certificates-2023.08.22-~ --> intel::ca-certificates-2023.5.7-h8857fd0_0\n",
      "  certifi            anaconda/osx-64::certifi-2023.11.17-p~ --> intel/noarch::certifi-2023.7.22-pyhd8ed1ab_0\n",
      "  openssl               anaconda::openssl-1.1.1w-hca72f7f_0 --> intel::openssl-1.1.1t-hca72f7f_0\n",
      "\n",
      "\n",
      "Preparing transaction: done\n",
      "Verifying transaction: done\n",
      "Executing transaction: done\n",
      "\n",
      "Note: you may need to restart the kernel to use updated packages.\n"
     ]
    }
   ],
   "source": [
    "conda install -c intel mkl"
   ]
  },
  {
   "cell_type": "code",
   "execution_count": 3,
   "metadata": {
    "ExecuteTime": {
     "end_time": "2024-03-19T15:51:13.773647Z",
     "start_time": "2024-03-19T15:51:08.428154Z"
    }
   },
   "outputs": [
    {
     "name": "stdout",
     "output_type": "stream",
     "text": [
      "Collecting package metadata (current_repodata.json): done\n",
      "Solving environment: done\n",
      "\n",
      "\n",
      "==> WARNING: A newer version of conda exists. <==\n",
      "  current version: 4.10.3\n",
      "  latest version: 24.3.0\n",
      "\n",
      "Please update conda by running\n",
      "\n",
      "    $ conda update -n base -c defaults conda\n",
      "\n",
      "\n",
      "\n",
      "# All requested packages already installed.\n",
      "\n",
      "\n",
      "Note: you may need to restart the kernel to use updated packages.\n"
     ]
    }
   ],
   "source": [
    "conda update -n base -c defaults conda"
   ]
  },
  {
   "cell_type": "code",
   "execution_count": 4,
   "metadata": {
    "ExecuteTime": {
     "end_time": "2024-03-19T15:51:33.672449Z",
     "start_time": "2024-03-19T15:51:33.311870Z"
    }
   },
   "outputs": [
    {
     "name": "stdout",
     "output_type": "stream",
     "text": [
      "no change     /Users/ferdi/opt/anaconda3/condabin/conda\n",
      "no change     /Users/ferdi/opt/anaconda3/bin/conda\n",
      "no change     /Users/ferdi/opt/anaconda3/bin/conda-env\n",
      "no change     /Users/ferdi/opt/anaconda3/bin/activate\n",
      "no change     /Users/ferdi/opt/anaconda3/bin/deactivate\n",
      "no change     /Users/ferdi/opt/anaconda3/etc/profile.d/conda.sh\n",
      "no change     /Users/ferdi/opt/anaconda3/etc/fish/conf.d/conda.fish\n",
      "no change     /Users/ferdi/opt/anaconda3/shell/condabin/Conda.psm1\n",
      "no change     /Users/ferdi/opt/anaconda3/shell/condabin/conda-hook.ps1\n",
      "no change     /Users/ferdi/opt/anaconda3/lib/python3.8/site-packages/xontrib/conda.xsh\n",
      "no change     /Users/ferdi/opt/anaconda3/etc/profile.d/conda.csh\n",
      "modified      /Users/ferdi/.bash_profile\n",
      "\n",
      "==> For changes to take effect, close and re-open your current shell. <==\n",
      "\n",
      "\n",
      "Note: you may need to restart the kernel to use updated packages.\n"
     ]
    }
   ],
   "source": [
    "conda init bash"
   ]
  },
  {
   "cell_type": "code",
   "execution_count": null,
   "metadata": {
    "ExecuteTime": {
     "start_time": "2024-03-19T15:54:48.697Z"
    }
   },
   "outputs": [],
   "source": [
    "import keras"
   ]
  },
  {
   "cell_type": "code",
   "execution_count": null,
   "metadata": {
    "ExecuteTime": {
     "start_time": "2024-03-17T16:50:56.201Z"
    }
   },
   "outputs": [],
   "source": [
    "from keras.models import Sequential\n",
    "from keras.layers import Dense\n",
    "from keras.layers import GRU"
   ]
  },
  {
   "cell_type": "code",
   "execution_count": null,
   "metadata": {
    "ExecuteTime": {
     "start_time": "2024-03-17T07:11:25.500Z"
    }
   },
   "outputs": [],
   "source": [
    "df_aal = pd.read_csv(\"1MinSamples/AAL_1min_sample.csv\")\n",
    "df_fdx = pd.read_csv(\"1MinSamples/FDX_1min_sample.csv\")\n",
    "df_fis = pd.read_csv(\"1MinSamples/FIS_1min_sample.csv\")\n",
    "df_mcy = pd.read_csv(\"1MinSamples/M_1min_sample.csv\")\n",
    "df_spr = pd.read_csv(\"1MinSamples/S_1min_sample.csv\")\n",
    "df_sbx = pd.read_csv(\"1MinSamples/SBUX_1min_sample.csv\")\n",
    "df_tsl = pd.read_csv(\"1MinSamples/TSLA_1min_sample.csv\")\n",
    "\n",
    "all_dfs = [df_aal, df_fdx, df_fis, df_mcy, df_sbx, df_spr, df_tsl]"
   ]
  },
  {
   "cell_type": "code",
   "execution_count": null,
   "metadata": {
    "ExecuteTime": {
     "start_time": "2024-03-17T07:11:25.502Z"
    }
   },
   "outputs": [],
   "source": [
    "for df in all_dfs:\n",
    "    print(len(df))"
   ]
  },
  {
   "cell_type": "code",
   "execution_count": null,
   "metadata": {
    "ExecuteTime": {
     "start_time": "2024-03-17T07:11:25.504Z"
    }
   },
   "outputs": [],
   "source": [
    "for df in all_dfs:\n",
    "    df['timestamp'] = pd.to_datetime(df['timestamp'])"
   ]
  },
  {
   "cell_type": "code",
   "execution_count": null,
   "metadata": {
    "ExecuteTime": {
     "start_time": "2024-03-17T07:11:25.506Z"
    },
    "scrolled": true
   },
   "outputs": [],
   "source": [
    "df_aal.info()"
   ]
  },
  {
   "cell_type": "code",
   "execution_count": null,
   "metadata": {
    "ExecuteTime": {
     "start_time": "2024-03-17T07:11:25.508Z"
    },
    "scrolled": true
   },
   "outputs": [],
   "source": [
    "for df in all_dfs:\n",
    "    print(df.isnull().sum())\n",
    "    print(\"\\n\")"
   ]
  },
  {
   "cell_type": "code",
   "execution_count": null,
   "metadata": {
    "ExecuteTime": {
     "start_time": "2024-03-17T07:11:25.510Z"
    }
   },
   "outputs": [],
   "source": [
    "for df in all_dfs:\n",
    "    print(df[\"timestamp\"][0])"
   ]
  },
  {
   "cell_type": "code",
   "execution_count": null,
   "metadata": {
    "ExecuteTime": {
     "start_time": "2024-03-17T07:11:25.512Z"
    },
    "scrolled": false
   },
   "outputs": [],
   "source": [
    "for df in all_dfs:\n",
    "    print(df[\"timestamp\"].iloc[-1])"
   ]
  },
  {
   "cell_type": "code",
   "execution_count": null,
   "metadata": {
    "ExecuteTime": {
     "start_time": "2024-03-17T07:11:25.514Z"
    },
    "scrolled": true
   },
   "outputs": [],
   "source": [
    "for df in all_dfs:\n",
    "    df.set_index('timestamp', inplace=True)"
   ]
  },
  {
   "cell_type": "code",
   "execution_count": null,
   "metadata": {
    "ExecuteTime": {
     "start_time": "2024-03-17T07:11:25.516Z"
    }
   },
   "outputs": [],
   "source": [
    "for i, df in enumerate(all_dfs):\n",
    "    all_dfs[i].drop([\"high\", \"low\", \"close\"], axis = 1, inplace = True)"
   ]
  },
  {
   "cell_type": "code",
   "execution_count": null,
   "metadata": {
    "ExecuteTime": {
     "start_time": "2024-03-17T07:11:25.517Z"
    }
   },
   "outputs": [],
   "source": [
    "for i, df in enumerate(all_dfs):\n",
    "    all_dfs[i] = df.resample(\"1min\").asfreq().ffill()"
   ]
  },
  {
   "cell_type": "code",
   "execution_count": null,
   "metadata": {
    "ExecuteTime": {
     "start_time": "2024-03-17T07:11:25.519Z"
    }
   },
   "outputs": [],
   "source": [
    "scaler = StandardScaler()\n",
    "\n",
    "for i, df in enumerate(all_dfs):\n",
    "    all_dfs[i][\"open\"] = scaler.fit_transform(np.array(\n",
    "        all_dfs[i][\"open\"]).reshape(-1,1))"
   ]
  },
  {
   "cell_type": "code",
   "execution_count": null,
   "metadata": {
    "ExecuteTime": {
     "start_time": "2024-03-17T07:11:25.521Z"
    }
   },
   "outputs": [],
   "source": [
    "for i, df in enumerate(all_dfs):\n",
    "    all_dfs[i] = df['2024-02-26 08:00' : \"2024-03-11 16:00\" ]"
   ]
  },
  {
   "cell_type": "code",
   "execution_count": null,
   "metadata": {},
   "outputs": [],
   "source": []
  }
 ],
 "metadata": {
  "kernelspec": {
   "display_name": "Python [conda env:tf-env] *",
   "language": "python",
   "name": "conda-env-tf-env-py"
  },
  "language_info": {
   "codemirror_mode": {
    "name": "ipython",
    "version": 3
   },
   "file_extension": ".py",
   "mimetype": "text/x-python",
   "name": "python",
   "nbconvert_exporter": "python",
   "pygments_lexer": "ipython3",
   "version": "3.8.5"
  },
  "toc": {
   "base_numbering": 1,
   "nav_menu": {},
   "number_sections": true,
   "sideBar": true,
   "skip_h1_title": false,
   "title_cell": "Table of Contents",
   "title_sidebar": "Contents",
   "toc_cell": false,
   "toc_position": {},
   "toc_section_display": true,
   "toc_window_display": false
  },
  "varInspector": {
   "cols": {
    "lenName": 16,
    "lenType": 16,
    "lenVar": 40
   },
   "kernels_config": {
    "python": {
     "delete_cmd_postfix": "",
     "delete_cmd_prefix": "del ",
     "library": "var_list.py",
     "varRefreshCmd": "print(var_dic_list())"
    },
    "r": {
     "delete_cmd_postfix": ") ",
     "delete_cmd_prefix": "rm(",
     "library": "var_list.r",
     "varRefreshCmd": "cat(var_dic_list()) "
    }
   },
   "types_to_exclude": [
    "module",
    "function",
    "builtin_function_or_method",
    "instance",
    "_Feature"
   ],
   "window_display": false
  }
 },
 "nbformat": 4,
 "nbformat_minor": 4
}
